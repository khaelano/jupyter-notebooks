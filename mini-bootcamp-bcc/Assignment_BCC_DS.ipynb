{
  "cells": [
    {
      "cell_type": "code",
      "execution_count": 1,
      "metadata": {
        "colab": {
          "background_save": true
        },
        "id": "xQaP86XrUudJ"
      },
      "outputs": [],
      "source": [
        "import pandas as pd\n",
        "import numpy as np\n",
        "import matplotlib.pyplot as plt\n",
        "import seaborn as sns"
      ]
    },
    {
      "cell_type": "markdown",
      "metadata": {
        "id": "6r-plDX-boh9"
      },
      "source": [
        "### **Mengambil data dari *.csv**"
      ]
    },
    {
      "cell_type": "code",
      "execution_count": 2,
      "metadata": {
        "colab": {
          "background_save": true,
          "base_uri": "https://localhost:8080/",
          "height": 444
        },
        "id": "_TL-P_3bVIM9",
        "outputId": "462b04aa-c8ea-4f44-ef3a-3b7cc3c32ee3"
      },
      "outputs": [
        {
          "data": {
            "text/html": [
              "<div>\n",
              "<style scoped>\n",
              "    .dataframe tbody tr th:only-of-type {\n",
              "        vertical-align: middle;\n",
              "    }\n",
              "\n",
              "    .dataframe tbody tr th {\n",
              "        vertical-align: top;\n",
              "    }\n",
              "\n",
              "    .dataframe thead th {\n",
              "        text-align: right;\n",
              "    }\n",
              "</style>\n",
              "<table border=\"1\" class=\"dataframe\">\n",
              "  <thead>\n",
              "    <tr style=\"text-align: right;\">\n",
              "      <th></th>\n",
              "      <th>longitude</th>\n",
              "      <th>latitude</th>\n",
              "      <th>housing_median_age</th>\n",
              "      <th>total_rooms</th>\n",
              "      <th>total_bedrooms</th>\n",
              "      <th>population</th>\n",
              "      <th>households</th>\n",
              "      <th>median_income</th>\n",
              "      <th>median_house_value</th>\n",
              "      <th>ocean_proximity</th>\n",
              "    </tr>\n",
              "  </thead>\n",
              "  <tbody>\n",
              "    <tr>\n",
              "      <th>0</th>\n",
              "      <td>-122.23</td>\n",
              "      <td>37.88</td>\n",
              "      <td>41.0</td>\n",
              "      <td>880.0</td>\n",
              "      <td>129.0</td>\n",
              "      <td>322.0</td>\n",
              "      <td>126.0</td>\n",
              "      <td>8.3252</td>\n",
              "      <td>452600.0</td>\n",
              "      <td>NEAR BAY</td>\n",
              "    </tr>\n",
              "    <tr>\n",
              "      <th>1</th>\n",
              "      <td>-122.22</td>\n",
              "      <td>37.86</td>\n",
              "      <td>21.0</td>\n",
              "      <td>7099.0</td>\n",
              "      <td>1106.0</td>\n",
              "      <td>2401.0</td>\n",
              "      <td>1138.0</td>\n",
              "      <td>8.3014</td>\n",
              "      <td>358500.0</td>\n",
              "      <td>NEAR BAY</td>\n",
              "    </tr>\n",
              "    <tr>\n",
              "      <th>2</th>\n",
              "      <td>-122.24</td>\n",
              "      <td>37.85</td>\n",
              "      <td>52.0</td>\n",
              "      <td>1467.0</td>\n",
              "      <td>190.0</td>\n",
              "      <td>496.0</td>\n",
              "      <td>177.0</td>\n",
              "      <td>7.2574</td>\n",
              "      <td>352100.0</td>\n",
              "      <td>NEAR BAY</td>\n",
              "    </tr>\n",
              "    <tr>\n",
              "      <th>3</th>\n",
              "      <td>-122.25</td>\n",
              "      <td>37.85</td>\n",
              "      <td>52.0</td>\n",
              "      <td>1274.0</td>\n",
              "      <td>235.0</td>\n",
              "      <td>558.0</td>\n",
              "      <td>219.0</td>\n",
              "      <td>5.6431</td>\n",
              "      <td>341300.0</td>\n",
              "      <td>NEAR BAY</td>\n",
              "    </tr>\n",
              "    <tr>\n",
              "      <th>4</th>\n",
              "      <td>-122.25</td>\n",
              "      <td>37.85</td>\n",
              "      <td>52.0</td>\n",
              "      <td>1627.0</td>\n",
              "      <td>280.0</td>\n",
              "      <td>565.0</td>\n",
              "      <td>259.0</td>\n",
              "      <td>3.8462</td>\n",
              "      <td>342200.0</td>\n",
              "      <td>NEAR BAY</td>\n",
              "    </tr>\n",
              "    <tr>\n",
              "      <th>...</th>\n",
              "      <td>...</td>\n",
              "      <td>...</td>\n",
              "      <td>...</td>\n",
              "      <td>...</td>\n",
              "      <td>...</td>\n",
              "      <td>...</td>\n",
              "      <td>...</td>\n",
              "      <td>...</td>\n",
              "      <td>...</td>\n",
              "      <td>...</td>\n",
              "    </tr>\n",
              "    <tr>\n",
              "      <th>20635</th>\n",
              "      <td>-121.09</td>\n",
              "      <td>39.48</td>\n",
              "      <td>25.0</td>\n",
              "      <td>1665.0</td>\n",
              "      <td>374.0</td>\n",
              "      <td>845.0</td>\n",
              "      <td>330.0</td>\n",
              "      <td>1.5603</td>\n",
              "      <td>78100.0</td>\n",
              "      <td>INLAND</td>\n",
              "    </tr>\n",
              "    <tr>\n",
              "      <th>20636</th>\n",
              "      <td>-121.21</td>\n",
              "      <td>39.49</td>\n",
              "      <td>18.0</td>\n",
              "      <td>697.0</td>\n",
              "      <td>150.0</td>\n",
              "      <td>356.0</td>\n",
              "      <td>114.0</td>\n",
              "      <td>2.5568</td>\n",
              "      <td>77100.0</td>\n",
              "      <td>INLAND</td>\n",
              "    </tr>\n",
              "    <tr>\n",
              "      <th>20637</th>\n",
              "      <td>-121.22</td>\n",
              "      <td>39.43</td>\n",
              "      <td>17.0</td>\n",
              "      <td>2254.0</td>\n",
              "      <td>485.0</td>\n",
              "      <td>1007.0</td>\n",
              "      <td>433.0</td>\n",
              "      <td>1.7000</td>\n",
              "      <td>92300.0</td>\n",
              "      <td>INLAND</td>\n",
              "    </tr>\n",
              "    <tr>\n",
              "      <th>20638</th>\n",
              "      <td>-121.32</td>\n",
              "      <td>39.43</td>\n",
              "      <td>18.0</td>\n",
              "      <td>1860.0</td>\n",
              "      <td>409.0</td>\n",
              "      <td>741.0</td>\n",
              "      <td>349.0</td>\n",
              "      <td>1.8672</td>\n",
              "      <td>84700.0</td>\n",
              "      <td>INLAND</td>\n",
              "    </tr>\n",
              "    <tr>\n",
              "      <th>20639</th>\n",
              "      <td>-121.24</td>\n",
              "      <td>39.37</td>\n",
              "      <td>16.0</td>\n",
              "      <td>2785.0</td>\n",
              "      <td>616.0</td>\n",
              "      <td>1387.0</td>\n",
              "      <td>530.0</td>\n",
              "      <td>2.3886</td>\n",
              "      <td>89400.0</td>\n",
              "      <td>INLAND</td>\n",
              "    </tr>\n",
              "  </tbody>\n",
              "</table>\n",
              "<p>20640 rows × 10 columns</p>\n",
              "</div>"
            ],
            "text/plain": [
              "       longitude  latitude  housing_median_age  total_rooms  total_bedrooms  \\\n",
              "0        -122.23     37.88                41.0        880.0           129.0   \n",
              "1        -122.22     37.86                21.0       7099.0          1106.0   \n",
              "2        -122.24     37.85                52.0       1467.0           190.0   \n",
              "3        -122.25     37.85                52.0       1274.0           235.0   \n",
              "4        -122.25     37.85                52.0       1627.0           280.0   \n",
              "...          ...       ...                 ...          ...             ...   \n",
              "20635    -121.09     39.48                25.0       1665.0           374.0   \n",
              "20636    -121.21     39.49                18.0        697.0           150.0   \n",
              "20637    -121.22     39.43                17.0       2254.0           485.0   \n",
              "20638    -121.32     39.43                18.0       1860.0           409.0   \n",
              "20639    -121.24     39.37                16.0       2785.0           616.0   \n",
              "\n",
              "       population  households  median_income  median_house_value  \\\n",
              "0           322.0       126.0         8.3252            452600.0   \n",
              "1          2401.0      1138.0         8.3014            358500.0   \n",
              "2           496.0       177.0         7.2574            352100.0   \n",
              "3           558.0       219.0         5.6431            341300.0   \n",
              "4           565.0       259.0         3.8462            342200.0   \n",
              "...           ...         ...            ...                 ...   \n",
              "20635       845.0       330.0         1.5603             78100.0   \n",
              "20636       356.0       114.0         2.5568             77100.0   \n",
              "20637      1007.0       433.0         1.7000             92300.0   \n",
              "20638       741.0       349.0         1.8672             84700.0   \n",
              "20639      1387.0       530.0         2.3886             89400.0   \n",
              "\n",
              "      ocean_proximity  \n",
              "0            NEAR BAY  \n",
              "1            NEAR BAY  \n",
              "2            NEAR BAY  \n",
              "3            NEAR BAY  \n",
              "4            NEAR BAY  \n",
              "...               ...  \n",
              "20635          INLAND  \n",
              "20636          INLAND  \n",
              "20637          INLAND  \n",
              "20638          INLAND  \n",
              "20639          INLAND  \n",
              "\n",
              "[20640 rows x 10 columns]"
            ]
          },
          "execution_count": 2,
          "metadata": {},
          "output_type": "execute_result"
        }
      ],
      "source": [
        "data = pd.read_csv(\"https://raw.githubusercontent.com/SulthanAbiyyu/mini-bootcamp-bcc-2023/master/housing.csv\")\n",
        "data"
      ]
    },
    {
      "cell_type": "code",
      "execution_count": 3,
      "metadata": {
        "colab": {
          "background_save": true,
          "base_uri": "https://localhost:8080/",
          "height": 320
        },
        "id": "vbECw_TjYMry",
        "outputId": "f3276a12-0db9-40ce-d63c-84623d18a906"
      },
      "outputs": [
        {
          "data": {
            "text/html": [
              "<div>\n",
              "<style scoped>\n",
              "    .dataframe tbody tr th:only-of-type {\n",
              "        vertical-align: middle;\n",
              "    }\n",
              "\n",
              "    .dataframe tbody tr th {\n",
              "        vertical-align: top;\n",
              "    }\n",
              "\n",
              "    .dataframe thead th {\n",
              "        text-align: right;\n",
              "    }\n",
              "</style>\n",
              "<table border=\"1\" class=\"dataframe\">\n",
              "  <thead>\n",
              "    <tr style=\"text-align: right;\">\n",
              "      <th></th>\n",
              "      <th>longitude</th>\n",
              "      <th>latitude</th>\n",
              "      <th>housing_median_age</th>\n",
              "      <th>total_rooms</th>\n",
              "      <th>total_bedrooms</th>\n",
              "      <th>population</th>\n",
              "      <th>households</th>\n",
              "      <th>median_income</th>\n",
              "      <th>median_house_value</th>\n",
              "    </tr>\n",
              "  </thead>\n",
              "  <tbody>\n",
              "    <tr>\n",
              "      <th>count</th>\n",
              "      <td>20640.000000</td>\n",
              "      <td>20640.000000</td>\n",
              "      <td>20640.000000</td>\n",
              "      <td>20640.000000</td>\n",
              "      <td>20433.000000</td>\n",
              "      <td>20640.000000</td>\n",
              "      <td>20640.000000</td>\n",
              "      <td>20640.000000</td>\n",
              "      <td>20640.000000</td>\n",
              "    </tr>\n",
              "    <tr>\n",
              "      <th>mean</th>\n",
              "      <td>-119.569704</td>\n",
              "      <td>35.631861</td>\n",
              "      <td>28.639486</td>\n",
              "      <td>2635.763081</td>\n",
              "      <td>537.870553</td>\n",
              "      <td>1425.476744</td>\n",
              "      <td>499.539680</td>\n",
              "      <td>3.870671</td>\n",
              "      <td>206855.816909</td>\n",
              "    </tr>\n",
              "    <tr>\n",
              "      <th>std</th>\n",
              "      <td>2.003532</td>\n",
              "      <td>2.135952</td>\n",
              "      <td>12.585558</td>\n",
              "      <td>2181.615252</td>\n",
              "      <td>421.385070</td>\n",
              "      <td>1132.462122</td>\n",
              "      <td>382.329753</td>\n",
              "      <td>1.899822</td>\n",
              "      <td>115395.615874</td>\n",
              "    </tr>\n",
              "    <tr>\n",
              "      <th>min</th>\n",
              "      <td>-124.350000</td>\n",
              "      <td>32.540000</td>\n",
              "      <td>1.000000</td>\n",
              "      <td>2.000000</td>\n",
              "      <td>1.000000</td>\n",
              "      <td>3.000000</td>\n",
              "      <td>1.000000</td>\n",
              "      <td>0.499900</td>\n",
              "      <td>14999.000000</td>\n",
              "    </tr>\n",
              "    <tr>\n",
              "      <th>25%</th>\n",
              "      <td>-121.800000</td>\n",
              "      <td>33.930000</td>\n",
              "      <td>18.000000</td>\n",
              "      <td>1447.750000</td>\n",
              "      <td>296.000000</td>\n",
              "      <td>787.000000</td>\n",
              "      <td>280.000000</td>\n",
              "      <td>2.563400</td>\n",
              "      <td>119600.000000</td>\n",
              "    </tr>\n",
              "    <tr>\n",
              "      <th>50%</th>\n",
              "      <td>-118.490000</td>\n",
              "      <td>34.260000</td>\n",
              "      <td>29.000000</td>\n",
              "      <td>2127.000000</td>\n",
              "      <td>435.000000</td>\n",
              "      <td>1166.000000</td>\n",
              "      <td>409.000000</td>\n",
              "      <td>3.534800</td>\n",
              "      <td>179700.000000</td>\n",
              "    </tr>\n",
              "    <tr>\n",
              "      <th>75%</th>\n",
              "      <td>-118.010000</td>\n",
              "      <td>37.710000</td>\n",
              "      <td>37.000000</td>\n",
              "      <td>3148.000000</td>\n",
              "      <td>647.000000</td>\n",
              "      <td>1725.000000</td>\n",
              "      <td>605.000000</td>\n",
              "      <td>4.743250</td>\n",
              "      <td>264725.000000</td>\n",
              "    </tr>\n",
              "    <tr>\n",
              "      <th>max</th>\n",
              "      <td>-114.310000</td>\n",
              "      <td>41.950000</td>\n",
              "      <td>52.000000</td>\n",
              "      <td>39320.000000</td>\n",
              "      <td>6445.000000</td>\n",
              "      <td>35682.000000</td>\n",
              "      <td>6082.000000</td>\n",
              "      <td>15.000100</td>\n",
              "      <td>500001.000000</td>\n",
              "    </tr>\n",
              "  </tbody>\n",
              "</table>\n",
              "</div>"
            ],
            "text/plain": [
              "          longitude      latitude  housing_median_age   total_rooms  \\\n",
              "count  20640.000000  20640.000000        20640.000000  20640.000000   \n",
              "mean    -119.569704     35.631861           28.639486   2635.763081   \n",
              "std        2.003532      2.135952           12.585558   2181.615252   \n",
              "min     -124.350000     32.540000            1.000000      2.000000   \n",
              "25%     -121.800000     33.930000           18.000000   1447.750000   \n",
              "50%     -118.490000     34.260000           29.000000   2127.000000   \n",
              "75%     -118.010000     37.710000           37.000000   3148.000000   \n",
              "max     -114.310000     41.950000           52.000000  39320.000000   \n",
              "\n",
              "       total_bedrooms    population    households  median_income  \\\n",
              "count    20433.000000  20640.000000  20640.000000   20640.000000   \n",
              "mean       537.870553   1425.476744    499.539680       3.870671   \n",
              "std        421.385070   1132.462122    382.329753       1.899822   \n",
              "min          1.000000      3.000000      1.000000       0.499900   \n",
              "25%        296.000000    787.000000    280.000000       2.563400   \n",
              "50%        435.000000   1166.000000    409.000000       3.534800   \n",
              "75%        647.000000   1725.000000    605.000000       4.743250   \n",
              "max       6445.000000  35682.000000   6082.000000      15.000100   \n",
              "\n",
              "       median_house_value  \n",
              "count        20640.000000  \n",
              "mean        206855.816909  \n",
              "std         115395.615874  \n",
              "min          14999.000000  \n",
              "25%         119600.000000  \n",
              "50%         179700.000000  \n",
              "75%         264725.000000  \n",
              "max         500001.000000  "
            ]
          },
          "execution_count": 3,
          "metadata": {},
          "output_type": "execute_result"
        }
      ],
      "source": [
        "data.describe()"
      ]
    },
    {
      "cell_type": "markdown",
      "metadata": {
        "id": "ml-EzFjqbxB6"
      },
      "source": [
        "### **Membersihkan data dari null**\n",
        "\n"
      ]
    },
    {
      "cell_type": "code",
      "execution_count": 4,
      "metadata": {
        "colab": {
          "background_save": true,
          "base_uri": "https://localhost:8080/"
        },
        "id": "MqwpHPJUVUio",
        "outputId": "dd7c8e2a-bf79-4d7e-95a6-517b1c4b40b9"
      },
      "outputs": [
        {
          "data": {
            "text/plain": [
              "longitude               0\n",
              "latitude                0\n",
              "housing_median_age      0\n",
              "total_rooms             0\n",
              "total_bedrooms        207\n",
              "population              0\n",
              "households              0\n",
              "median_income           0\n",
              "median_house_value      0\n",
              "ocean_proximity         0\n",
              "dtype: int64"
            ]
          },
          "execution_count": 4,
          "metadata": {},
          "output_type": "execute_result"
        }
      ],
      "source": [
        "data.isna().sum()"
      ]
    },
    {
      "cell_type": "code",
      "execution_count": 5,
      "metadata": {
        "colab": {
          "background_save": true,
          "base_uri": "https://localhost:8080/"
        },
        "id": "mCcBp-hLWYnW",
        "outputId": "202bbe22-4290-4faa-8f8c-88c36dbdba8d"
      },
      "outputs": [
        {
          "data": {
            "text/plain": [
              "longitude             0\n",
              "latitude              0\n",
              "housing_median_age    0\n",
              "total_rooms           0\n",
              "total_bedrooms        0\n",
              "population            0\n",
              "households            0\n",
              "median_income         0\n",
              "median_house_value    0\n",
              "ocean_proximity       0\n",
              "dtype: int64"
            ]
          },
          "execution_count": 5,
          "metadata": {},
          "output_type": "execute_result"
        }
      ],
      "source": [
        "mean_total_bedrooms = data['total_bedrooms'].mean()\n",
        "mean_total_bedrooms\n",
        "\n",
        "data['total_bedrooms'].fillna(value=mean_total_bedrooms, inplace=True)\n",
        "data.isna().sum()"
      ]
    },
    {
      "cell_type": "code",
      "execution_count": 6,
      "metadata": {
        "colab": {
          "background_save": true
        },
        "id": "oFMprFn5uuwd"
      },
      "outputs": [],
      "source": [
        "# Drop kolom yang tidak berguna\n",
        "data = data.drop([], axis=1)"
      ]
    },
    {
      "cell_type": "markdown",
      "metadata": {
        "id": "C344y4YScURx"
      },
      "source": [
        "### **Membersihkan data dari outlier**"
      ]
    },
    {
      "cell_type": "markdown",
      "metadata": {
        "id": "_Hp2nv7qf0Q-"
      },
      "source": [
        "#### Outlier kategorikal"
      ]
    },
    {
      "cell_type": "code",
      "execution_count": 7,
      "metadata": {
        "colab": {
          "background_save": true,
          "base_uri": "https://localhost:8080/"
        },
        "id": "1PpExJVGXqlD",
        "outputId": "4781755b-9444-449d-a2fa-2cd3241113d0"
      },
      "outputs": [
        {
          "name": "stdout",
          "output_type": "stream",
          "text": [
            "ocean proximity counts: 5\n",
            "ocean proximity values: ['NEAR BAY' '<1H OCEAN' 'INLAND' 'NEAR OCEAN' 'ISLAND']\n",
            "ocean_proximity\n",
            "<1H OCEAN     9136\n",
            "INLAND        6551\n",
            "NEAR OCEAN    2658\n",
            "NEAR BAY      2290\n",
            "ISLAND           5\n",
            "Name: count, dtype: int64\n"
          ]
        }
      ],
      "source": [
        "ocean_proximity_counts = data['ocean_proximity'].nunique()\n",
        "ocean_proximity_values = data['ocean_proximity'].unique()\n",
        "\n",
        "print('ocean proximity counts:', ocean_proximity_counts)\n",
        "print('ocean proximity values:', ocean_proximity_values)\n",
        "print(data['ocean_proximity'].value_counts())"
      ]
    },
    {
      "cell_type": "code",
      "execution_count": null,
      "metadata": {
        "colab": {
          "background_save": true
        },
        "id": "kpMCzJ2ucgyp"
      },
      "outputs": [],
      "source": []
    },
    {
      "cell_type": "code",
      "execution_count": 8,
      "metadata": {
        "colab": {
          "background_save": true,
          "base_uri": "https://localhost:8080/"
        },
        "id": "56sGvtNnaaLA",
        "outputId": "13a0b320-4c2a-479f-a425-a6d86fe17c8e"
      },
      "outputs": [
        {
          "data": {
            "text/plain": [
              "ocean_proximity\n",
              "<1H OCEAN     9141\n",
              "INLAND        6551\n",
              "NEAR OCEAN    4948\n",
              "Name: count, dtype: int64"
            ]
          },
          "execution_count": 8,
          "metadata": {},
          "output_type": "execute_result"
        }
      ],
      "source": [
        "ocean_proximity_mode = data['ocean_proximity'].mode()\n",
        "\n",
        "data['ocean_proximity'].replace('NEAR BAY', 'NEAR OCEAN', inplace=True)\n",
        "\n",
        "data['ocean_proximity'].replace(\"ISLAND\", ocean_proximity_mode[0], inplace=True)\n",
        "data['ocean_proximity'].value_counts()"
      ]
    },
    {
      "cell_type": "markdown",
      "metadata": {
        "id": "6uXLUAJyf_bA"
      },
      "source": [
        "#### Outlier numerikal"
      ]
    },
    {
      "cell_type": "code",
      "execution_count": 9,
      "metadata": {
        "colab": {
          "background_save": true
        },
        "id": "saLjDW2YbI7M"
      },
      "outputs": [],
      "source": [
        "def plot_boxplot_with_outliers(df, column_name):\n",
        "    plt.boxplot(df[column_name], vert=False)\n",
        "    plt.xlabel(column_name)\n",
        "    plt.title('Outliers pada ' + column_name)\n",
        "    plt.show()\n",
        "\n",
        "def remove_outliers_iqr(data, column_name):\n",
        "\n",
        "    Q1 = np.percentile(data[column_name], 25)\n",
        "    Q3 = np.percentile(data[column_name], 75)\n",
        "\n",
        "    IQR = Q3 - Q1\n",
        "\n",
        "    maximum = Q3 + (1.5 * IQR)\n",
        "    minimum = Q1 - (1.5 * IQR)\n",
        "\n",
        "    outlier_filter = (data[column_name] < minimum) | (\n",
        "        data[column_name] > maximum)\n",
        "\n",
        "    # print(outlier_filter)\n",
        "\n",
        "    data = data[~outlier_filter]\n",
        "\n",
        "    return data\n",
        "\n",
        "def remove_outliers_zscore(data, column_name, treshold):\n",
        "    mean = data[column_name].mean()\n",
        "    std = data[column_name].std()\n",
        "\n",
        "    outliers = []\n",
        "    for i in data[column_name]:\n",
        "        z = (i-mean)/std\n",
        "        if z > treshold:\n",
        "            outliers.append(i)\n",
        "\n",
        "    filter_outliers = ~data[column_name].isin(outliers)\n",
        "    data = data[filter_outliers]\n",
        "\n",
        "    return data"
      ]
    },
    {
      "cell_type": "code",
      "execution_count": 10,
      "metadata": {
        "colab": {
          "background_save": true,
          "base_uri": "https://localhost:8080/",
          "height": 444
        },
        "id": "OfdfmFPtjMQO",
        "outputId": "89dea13e-cc86-4342-96de-11a194448861"
      },
      "outputs": [
        {
          "data": {
            "text/html": [
              "<div>\n",
              "<style scoped>\n",
              "    .dataframe tbody tr th:only-of-type {\n",
              "        vertical-align: middle;\n",
              "    }\n",
              "\n",
              "    .dataframe tbody tr th {\n",
              "        vertical-align: top;\n",
              "    }\n",
              "\n",
              "    .dataframe thead th {\n",
              "        text-align: right;\n",
              "    }\n",
              "</style>\n",
              "<table border=\"1\" class=\"dataframe\">\n",
              "  <thead>\n",
              "    <tr style=\"text-align: right;\">\n",
              "      <th></th>\n",
              "      <th>longitude</th>\n",
              "      <th>latitude</th>\n",
              "      <th>housing_median_age</th>\n",
              "      <th>total_rooms</th>\n",
              "      <th>total_bedrooms</th>\n",
              "      <th>population</th>\n",
              "      <th>households</th>\n",
              "      <th>median_income</th>\n",
              "      <th>median_house_value</th>\n",
              "      <th>ocean_proximity</th>\n",
              "    </tr>\n",
              "  </thead>\n",
              "  <tbody>\n",
              "    <tr>\n",
              "      <th>0</th>\n",
              "      <td>-122.23</td>\n",
              "      <td>37.88</td>\n",
              "      <td>41.0</td>\n",
              "      <td>880.0</td>\n",
              "      <td>129.0</td>\n",
              "      <td>322.0</td>\n",
              "      <td>126.0</td>\n",
              "      <td>8.3252</td>\n",
              "      <td>452600.0</td>\n",
              "      <td>NEAR OCEAN</td>\n",
              "    </tr>\n",
              "    <tr>\n",
              "      <th>1</th>\n",
              "      <td>-122.22</td>\n",
              "      <td>37.86</td>\n",
              "      <td>21.0</td>\n",
              "      <td>7099.0</td>\n",
              "      <td>1106.0</td>\n",
              "      <td>2401.0</td>\n",
              "      <td>1138.0</td>\n",
              "      <td>8.3014</td>\n",
              "      <td>358500.0</td>\n",
              "      <td>NEAR OCEAN</td>\n",
              "    </tr>\n",
              "    <tr>\n",
              "      <th>2</th>\n",
              "      <td>-122.24</td>\n",
              "      <td>37.85</td>\n",
              "      <td>52.0</td>\n",
              "      <td>1467.0</td>\n",
              "      <td>190.0</td>\n",
              "      <td>496.0</td>\n",
              "      <td>177.0</td>\n",
              "      <td>7.2574</td>\n",
              "      <td>352100.0</td>\n",
              "      <td>NEAR OCEAN</td>\n",
              "    </tr>\n",
              "    <tr>\n",
              "      <th>3</th>\n",
              "      <td>-122.25</td>\n",
              "      <td>37.85</td>\n",
              "      <td>52.0</td>\n",
              "      <td>1274.0</td>\n",
              "      <td>235.0</td>\n",
              "      <td>558.0</td>\n",
              "      <td>219.0</td>\n",
              "      <td>5.6431</td>\n",
              "      <td>341300.0</td>\n",
              "      <td>NEAR OCEAN</td>\n",
              "    </tr>\n",
              "    <tr>\n",
              "      <th>4</th>\n",
              "      <td>-122.25</td>\n",
              "      <td>37.85</td>\n",
              "      <td>52.0</td>\n",
              "      <td>1627.0</td>\n",
              "      <td>280.0</td>\n",
              "      <td>565.0</td>\n",
              "      <td>259.0</td>\n",
              "      <td>3.8462</td>\n",
              "      <td>342200.0</td>\n",
              "      <td>NEAR OCEAN</td>\n",
              "    </tr>\n",
              "    <tr>\n",
              "      <th>...</th>\n",
              "      <td>...</td>\n",
              "      <td>...</td>\n",
              "      <td>...</td>\n",
              "      <td>...</td>\n",
              "      <td>...</td>\n",
              "      <td>...</td>\n",
              "      <td>...</td>\n",
              "      <td>...</td>\n",
              "      <td>...</td>\n",
              "      <td>...</td>\n",
              "    </tr>\n",
              "    <tr>\n",
              "      <th>20635</th>\n",
              "      <td>-121.09</td>\n",
              "      <td>39.48</td>\n",
              "      <td>25.0</td>\n",
              "      <td>1665.0</td>\n",
              "      <td>374.0</td>\n",
              "      <td>845.0</td>\n",
              "      <td>330.0</td>\n",
              "      <td>1.5603</td>\n",
              "      <td>78100.0</td>\n",
              "      <td>INLAND</td>\n",
              "    </tr>\n",
              "    <tr>\n",
              "      <th>20636</th>\n",
              "      <td>-121.21</td>\n",
              "      <td>39.49</td>\n",
              "      <td>18.0</td>\n",
              "      <td>697.0</td>\n",
              "      <td>150.0</td>\n",
              "      <td>356.0</td>\n",
              "      <td>114.0</td>\n",
              "      <td>2.5568</td>\n",
              "      <td>77100.0</td>\n",
              "      <td>INLAND</td>\n",
              "    </tr>\n",
              "    <tr>\n",
              "      <th>20637</th>\n",
              "      <td>-121.22</td>\n",
              "      <td>39.43</td>\n",
              "      <td>17.0</td>\n",
              "      <td>2254.0</td>\n",
              "      <td>485.0</td>\n",
              "      <td>1007.0</td>\n",
              "      <td>433.0</td>\n",
              "      <td>1.7000</td>\n",
              "      <td>92300.0</td>\n",
              "      <td>INLAND</td>\n",
              "    </tr>\n",
              "    <tr>\n",
              "      <th>20638</th>\n",
              "      <td>-121.32</td>\n",
              "      <td>39.43</td>\n",
              "      <td>18.0</td>\n",
              "      <td>1860.0</td>\n",
              "      <td>409.0</td>\n",
              "      <td>741.0</td>\n",
              "      <td>349.0</td>\n",
              "      <td>1.8672</td>\n",
              "      <td>84700.0</td>\n",
              "      <td>INLAND</td>\n",
              "    </tr>\n",
              "    <tr>\n",
              "      <th>20639</th>\n",
              "      <td>-121.24</td>\n",
              "      <td>39.37</td>\n",
              "      <td>16.0</td>\n",
              "      <td>2785.0</td>\n",
              "      <td>616.0</td>\n",
              "      <td>1387.0</td>\n",
              "      <td>530.0</td>\n",
              "      <td>2.3886</td>\n",
              "      <td>89400.0</td>\n",
              "      <td>INLAND</td>\n",
              "    </tr>\n",
              "  </tbody>\n",
              "</table>\n",
              "<p>18297 rows × 10 columns</p>\n",
              "</div>"
            ],
            "text/plain": [
              "       longitude  latitude  housing_median_age  total_rooms  total_bedrooms  \\\n",
              "0        -122.23     37.88                41.0        880.0           129.0   \n",
              "1        -122.22     37.86                21.0       7099.0          1106.0   \n",
              "2        -122.24     37.85                52.0       1467.0           190.0   \n",
              "3        -122.25     37.85                52.0       1274.0           235.0   \n",
              "4        -122.25     37.85                52.0       1627.0           280.0   \n",
              "...          ...       ...                 ...          ...             ...   \n",
              "20635    -121.09     39.48                25.0       1665.0           374.0   \n",
              "20636    -121.21     39.49                18.0        697.0           150.0   \n",
              "20637    -121.22     39.43                17.0       2254.0           485.0   \n",
              "20638    -121.32     39.43                18.0       1860.0           409.0   \n",
              "20639    -121.24     39.37                16.0       2785.0           616.0   \n",
              "\n",
              "       population  households  median_income  median_house_value  \\\n",
              "0           322.0       126.0         8.3252            452600.0   \n",
              "1          2401.0      1138.0         8.3014            358500.0   \n",
              "2           496.0       177.0         7.2574            352100.0   \n",
              "3           558.0       219.0         5.6431            341300.0   \n",
              "4           565.0       259.0         3.8462            342200.0   \n",
              "...           ...         ...            ...                 ...   \n",
              "20635       845.0       330.0         1.5603             78100.0   \n",
              "20636       356.0       114.0         2.5568             77100.0   \n",
              "20637      1007.0       433.0         1.7000             92300.0   \n",
              "20638       741.0       349.0         1.8672             84700.0   \n",
              "20639      1387.0       530.0         2.3886             89400.0   \n",
              "\n",
              "      ocean_proximity  \n",
              "0          NEAR OCEAN  \n",
              "1          NEAR OCEAN  \n",
              "2          NEAR OCEAN  \n",
              "3          NEAR OCEAN  \n",
              "4          NEAR OCEAN  \n",
              "...               ...  \n",
              "20635          INLAND  \n",
              "20636          INLAND  \n",
              "20637          INLAND  \n",
              "20638          INLAND  \n",
              "20639          INLAND  \n",
              "\n",
              "[18297 rows x 10 columns]"
            ]
          },
          "execution_count": 10,
          "metadata": {},
          "output_type": "execute_result"
        }
      ],
      "source": [
        "# data = remove_outliers_iqr(data, 'median_income')\n",
        "data = remove_outliers_zscore(data, 'median_house_value', 2.3)\n",
        "data = remove_outliers_zscore(data, 'total_rooms', 2.3)\n",
        "data = remove_outliers_zscore(data, 'total_bedrooms', 2.3)\n",
        "data = remove_outliers_zscore(data, 'housing_median_age', 2.3)\n",
        "# data = remove_outliers_iqr(data, 'households')\n",
        "\n",
        "# plot_boxplot_with_outliers(data, 'median_income')\n",
        "# plot_boxplot_with_outliers(data, 'median_house_value')\n",
        "# plot_boxplot_with_outliers(data, 'total_rooms')\n",
        "# plot_boxplot_with_outliers(data, 'total_bedrooms')\n",
        "# plot_boxplot_with_outliers(data, 'housing_median_age')\n",
        "# plot_boxplot_with_outliers(data, 'households')\n",
        "data"
      ]
    },
    {
      "cell_type": "markdown",
      "metadata": {
        "id": "BvEDYBcmF6gO"
      },
      "source": [
        "### **Explanatory data analysis**"
      ]
    },
    {
      "cell_type": "code",
      "execution_count": 30,
      "metadata": {
        "colab": {
          "background_save": true
        },
        "id": "5cL84ozUGqq_"
      },
      "outputs": [
        {
          "ename": "KeyboardInterrupt",
          "evalue": "",
          "output_type": "error",
          "traceback": [
            "\u001b[0;31m---------------------------------------------------------------------------\u001b[0m",
            "\u001b[0;31mKeyboardInterrupt\u001b[0m                         Traceback (most recent call last)",
            "\u001b[1;32m/home/khaelano/Documents/jupyter-notebooks/mini-bootcamp-bcc/Assignment_BCC_DS.ipynb Cell 18\u001b[0m line \u001b[0;36m3\n\u001b[1;32m     <a href='vscode-notebook-cell:/home/khaelano/Documents/jupyter-notebooks/mini-bootcamp-bcc/Assignment_BCC_DS.ipynb#X23sZmlsZQ%3D%3D?line=27'>28</a>\u001b[0m     sns\u001b[39m.\u001b[39mdespine()\n\u001b[1;32m     <a href='vscode-notebook-cell:/home/khaelano/Documents/jupyter-notebooks/mini-bootcamp-bcc/Assignment_BCC_DS.ipynb#X23sZmlsZQ%3D%3D?line=28'>29</a>\u001b[0m     plt\u001b[39m.\u001b[39mshow()\n\u001b[0;32m---> <a href='vscode-notebook-cell:/home/khaelano/Documents/jupyter-notebooks/mini-bootcamp-bcc/Assignment_BCC_DS.ipynb#X23sZmlsZQ%3D%3D?line=30'>31</a>\u001b[0m g \u001b[39m=\u001b[39m sns\u001b[39m.\u001b[39;49mFacetGrid(data, col\u001b[39m=\u001b[39;49m\u001b[39m'\u001b[39;49m\u001b[39mmedian_income\u001b[39;49m\u001b[39m'\u001b[39;49m)\n\u001b[1;32m     <a href='vscode-notebook-cell:/home/khaelano/Documents/jupyter-notebooks/mini-bootcamp-bcc/Assignment_BCC_DS.ipynb#X23sZmlsZQ%3D%3D?line=31'>32</a>\u001b[0m g\u001b[39m.\u001b[39mmap(sns\u001b[39m.\u001b[39mhistplot)\n",
            "File \u001b[0;32m~/.local/lib/python3.11/site-packages/seaborn/axisgrid.py:462\u001b[0m, in \u001b[0;36mFacetGrid.__init__\u001b[0;34m(self, data, row, col, hue, col_wrap, sharex, sharey, height, aspect, palette, row_order, col_order, hue_order, hue_kws, dropna, legend_out, despine, margin_titles, xlim, ylim, subplot_kws, gridspec_kws)\u001b[0m\n\u001b[1;32m    455\u001b[0m \u001b[39mif\u001b[39;00m col_wrap \u001b[39mis\u001b[39;00m \u001b[39mNone\u001b[39;00m:\n\u001b[1;32m    457\u001b[0m     kwargs \u001b[39m=\u001b[39m \u001b[39mdict\u001b[39m(squeeze\u001b[39m=\u001b[39m\u001b[39mFalse\u001b[39;00m,\n\u001b[1;32m    458\u001b[0m                   sharex\u001b[39m=\u001b[39msharex, sharey\u001b[39m=\u001b[39msharey,\n\u001b[1;32m    459\u001b[0m                   subplot_kw\u001b[39m=\u001b[39msubplot_kws,\n\u001b[1;32m    460\u001b[0m                   gridspec_kw\u001b[39m=\u001b[39mgridspec_kws)\n\u001b[0;32m--> 462\u001b[0m     axes \u001b[39m=\u001b[39m fig\u001b[39m.\u001b[39;49msubplots(nrow, ncol, \u001b[39m*\u001b[39;49m\u001b[39m*\u001b[39;49mkwargs)\n\u001b[1;32m    464\u001b[0m     \u001b[39mif\u001b[39;00m col \u001b[39mis\u001b[39;00m \u001b[39mNone\u001b[39;00m \u001b[39mand\u001b[39;00m row \u001b[39mis\u001b[39;00m \u001b[39mNone\u001b[39;00m:\n\u001b[1;32m    465\u001b[0m         axes_dict \u001b[39m=\u001b[39m {}\n",
            "File \u001b[0;32m~/.local/lib/python3.11/site-packages/matplotlib/figure.py:931\u001b[0m, in \u001b[0;36mFigureBase.subplots\u001b[0;34m(self, nrows, ncols, sharex, sharey, squeeze, width_ratios, height_ratios, subplot_kw, gridspec_kw)\u001b[0m\n\u001b[1;32m    928\u001b[0m     gridspec_kw[\u001b[39m'\u001b[39m\u001b[39mwidth_ratios\u001b[39m\u001b[39m'\u001b[39m] \u001b[39m=\u001b[39m width_ratios\n\u001b[1;32m    930\u001b[0m gs \u001b[39m=\u001b[39m \u001b[39mself\u001b[39m\u001b[39m.\u001b[39madd_gridspec(nrows, ncols, figure\u001b[39m=\u001b[39m\u001b[39mself\u001b[39m, \u001b[39m*\u001b[39m\u001b[39m*\u001b[39mgridspec_kw)\n\u001b[0;32m--> 931\u001b[0m axs \u001b[39m=\u001b[39m gs\u001b[39m.\u001b[39;49msubplots(sharex\u001b[39m=\u001b[39;49msharex, sharey\u001b[39m=\u001b[39;49msharey, squeeze\u001b[39m=\u001b[39;49msqueeze,\n\u001b[1;32m    932\u001b[0m                   subplot_kw\u001b[39m=\u001b[39;49msubplot_kw)\n\u001b[1;32m    933\u001b[0m \u001b[39mreturn\u001b[39;00m axs\n",
            "File \u001b[0;32m~/.local/lib/python3.11/site-packages/matplotlib/gridspec.py:298\u001b[0m, in \u001b[0;36mGridSpecBase.subplots\u001b[0;34m(self, sharex, sharey, squeeze, subplot_kw)\u001b[0m\n\u001b[1;32m    296\u001b[0m         subplot_kw[\u001b[39m\"\u001b[39m\u001b[39msharex\u001b[39m\u001b[39m\"\u001b[39m] \u001b[39m=\u001b[39m shared_with[sharex]\n\u001b[1;32m    297\u001b[0m         subplot_kw[\u001b[39m\"\u001b[39m\u001b[39msharey\u001b[39m\u001b[39m\"\u001b[39m] \u001b[39m=\u001b[39m shared_with[sharey]\n\u001b[0;32m--> 298\u001b[0m         axarr[row, col] \u001b[39m=\u001b[39m figure\u001b[39m.\u001b[39;49madd_subplot(\n\u001b[1;32m    299\u001b[0m             \u001b[39mself\u001b[39;49m[row, col], \u001b[39m*\u001b[39;49m\u001b[39m*\u001b[39;49msubplot_kw)\n\u001b[1;32m    301\u001b[0m \u001b[39m# turn off redundant tick labeling\u001b[39;00m\n\u001b[1;32m    302\u001b[0m \u001b[39mif\u001b[39;00m sharex \u001b[39min\u001b[39;00m [\u001b[39m\"\u001b[39m\u001b[39mcol\u001b[39m\u001b[39m\"\u001b[39m, \u001b[39m\"\u001b[39m\u001b[39mall\u001b[39m\u001b[39m\"\u001b[39m]:\n",
            "File \u001b[0;32m~/.local/lib/python3.11/site-packages/matplotlib/figure.py:782\u001b[0m, in \u001b[0;36mFigureBase.add_subplot\u001b[0;34m(self, *args, **kwargs)\u001b[0m\n\u001b[1;32m    780\u001b[0m         args \u001b[39m=\u001b[39m \u001b[39mtuple\u001b[39m(\u001b[39mmap\u001b[39m(\u001b[39mint\u001b[39m, \u001b[39mstr\u001b[39m(args[\u001b[39m0\u001b[39m])))\n\u001b[1;32m    781\u001b[0m     projection_class, pkw \u001b[39m=\u001b[39m \u001b[39mself\u001b[39m\u001b[39m.\u001b[39m_process_projection_requirements(\u001b[39m*\u001b[39m\u001b[39m*\u001b[39mkwargs)\n\u001b[0;32m--> 782\u001b[0m     ax \u001b[39m=\u001b[39m projection_class(\u001b[39mself\u001b[39;49m, \u001b[39m*\u001b[39;49margs, \u001b[39m*\u001b[39;49m\u001b[39m*\u001b[39;49mpkw)\n\u001b[1;32m    783\u001b[0m     key \u001b[39m=\u001b[39m (projection_class, pkw)\n\u001b[1;32m    784\u001b[0m \u001b[39mreturn\u001b[39;00m \u001b[39mself\u001b[39m\u001b[39m.\u001b[39m_add_axes_internal(ax, key)\n",
            "File \u001b[0;32m~/.local/lib/python3.11/site-packages/matplotlib/axes/_base.py:678\u001b[0m, in \u001b[0;36m_AxesBase.__init__\u001b[0;34m(self, fig, facecolor, frameon, sharex, sharey, label, xscale, yscale, box_aspect, *args, **kwargs)\u001b[0m\n\u001b[1;32m    675\u001b[0m \u001b[39mself\u001b[39m\u001b[39m.\u001b[39mset_axisbelow(mpl\u001b[39m.\u001b[39mrcParams[\u001b[39m'\u001b[39m\u001b[39maxes.axisbelow\u001b[39m\u001b[39m'\u001b[39m])\n\u001b[1;32m    677\u001b[0m \u001b[39mself\u001b[39m\u001b[39m.\u001b[39m_rasterization_zorder \u001b[39m=\u001b[39m \u001b[39mNone\u001b[39;00m\n\u001b[0;32m--> 678\u001b[0m \u001b[39mself\u001b[39;49m\u001b[39m.\u001b[39;49mclear()\n\u001b[1;32m    680\u001b[0m \u001b[39m# funcs used to format x and y - fall back on major formatters\u001b[39;00m\n\u001b[1;32m    681\u001b[0m \u001b[39mself\u001b[39m\u001b[39m.\u001b[39mfmt_xdata \u001b[39m=\u001b[39m \u001b[39mNone\u001b[39;00m\n",
            "File \u001b[0;32m~/.local/lib/python3.11/site-packages/matplotlib/axes/_base.py:1388\u001b[0m, in \u001b[0;36m_AxesBase.clear\u001b[0;34m(self)\u001b[0m\n\u001b[1;32m   1386\u001b[0m     \u001b[39mself\u001b[39m\u001b[39m.\u001b[39mcla()\n\u001b[1;32m   1387\u001b[0m \u001b[39melse\u001b[39;00m:\n\u001b[0;32m-> 1388\u001b[0m     \u001b[39mself\u001b[39;49m\u001b[39m.\u001b[39;49m__clear()\n",
            "File \u001b[0;32m~/.local/lib/python3.11/site-packages/matplotlib/axes/_base.py:1370\u001b[0m, in \u001b[0;36m_AxesBase.__clear\u001b[0;34m(self)\u001b[0m\n\u001b[1;32m   1368\u001b[0m share \u001b[39m=\u001b[39m \u001b[39mgetattr\u001b[39m(\u001b[39mself\u001b[39m, \u001b[39mf\u001b[39m\u001b[39m\"\u001b[39m\u001b[39m_share\u001b[39m\u001b[39m{\u001b[39;00mname\u001b[39m}\u001b[39;00m\u001b[39m\"\u001b[39m)\n\u001b[1;32m   1369\u001b[0m \u001b[39mif\u001b[39;00m share \u001b[39mis\u001b[39;00m \u001b[39mnot\u001b[39;00m \u001b[39mNone\u001b[39;00m:\n\u001b[0;32m-> 1370\u001b[0m     \u001b[39mgetattr\u001b[39;49m(\u001b[39mself\u001b[39;49m, \u001b[39mf\u001b[39;49m\u001b[39m\"\u001b[39;49m\u001b[39mshare\u001b[39;49m\u001b[39m{\u001b[39;49;00mname\u001b[39m}\u001b[39;49;00m\u001b[39m\"\u001b[39;49m)(share)\n\u001b[1;32m   1371\u001b[0m \u001b[39melse\u001b[39;00m:\n\u001b[1;32m   1372\u001b[0m     \u001b[39m# Although the scale was set to linear as part of clear,\u001b[39;00m\n\u001b[1;32m   1373\u001b[0m     \u001b[39m# polar requires that _set_scale is called again\u001b[39;00m\n\u001b[1;32m   1374\u001b[0m     \u001b[39mif\u001b[39;00m \u001b[39mself\u001b[39m\u001b[39m.\u001b[39mname \u001b[39m==\u001b[39m \u001b[39m\"\u001b[39m\u001b[39mpolar\u001b[39m\u001b[39m\"\u001b[39m:\n",
            "File \u001b[0;32m~/.local/lib/python3.11/site-packages/matplotlib/axes/_base.py:1251\u001b[0m, in \u001b[0;36m_AxesBase.sharey\u001b[0;34m(self, other)\u001b[0m\n\u001b[1;32m   1249\u001b[0m \u001b[39mself\u001b[39m\u001b[39m.\u001b[39myaxis\u001b[39m.\u001b[39mminor \u001b[39m=\u001b[39m other\u001b[39m.\u001b[39myaxis\u001b[39m.\u001b[39mminor  \u001b[39m# locator and formatter.\u001b[39;00m\n\u001b[1;32m   1250\u001b[0m y0, y1 \u001b[39m=\u001b[39m other\u001b[39m.\u001b[39mget_ylim()\n\u001b[0;32m-> 1251\u001b[0m \u001b[39mself\u001b[39;49m\u001b[39m.\u001b[39;49mset_ylim(y0, y1, emit\u001b[39m=\u001b[39;49m\u001b[39mFalse\u001b[39;49;00m, auto\u001b[39m=\u001b[39;49mother\u001b[39m.\u001b[39;49mget_autoscaley_on())\n\u001b[1;32m   1252\u001b[0m \u001b[39mself\u001b[39m\u001b[39m.\u001b[39myaxis\u001b[39m.\u001b[39m_scale \u001b[39m=\u001b[39m other\u001b[39m.\u001b[39myaxis\u001b[39m.\u001b[39m_scale\n",
            "File \u001b[0;32m~/.local/lib/python3.11/site-packages/matplotlib/axes/_base.py:3898\u001b[0m, in \u001b[0;36m_AxesBase.set_ylim\u001b[0;34m(self, bottom, top, emit, auto, ymin, ymax)\u001b[0m\n\u001b[1;32m   3896\u001b[0m         \u001b[39mraise\u001b[39;00m \u001b[39mTypeError\u001b[39;00m(\u001b[39m\"\u001b[39m\u001b[39mCannot pass both \u001b[39m\u001b[39m'\u001b[39m\u001b[39mtop\u001b[39m\u001b[39m'\u001b[39m\u001b[39m and \u001b[39m\u001b[39m'\u001b[39m\u001b[39mymax\u001b[39m\u001b[39m'\u001b[39m\u001b[39m\"\u001b[39m)\n\u001b[1;32m   3897\u001b[0m     top \u001b[39m=\u001b[39m ymax\n\u001b[0;32m-> 3898\u001b[0m \u001b[39mreturn\u001b[39;00m \u001b[39mself\u001b[39;49m\u001b[39m.\u001b[39;49myaxis\u001b[39m.\u001b[39;49m_set_lim(bottom, top, emit\u001b[39m=\u001b[39;49memit, auto\u001b[39m=\u001b[39;49mauto)\n",
            "File \u001b[0;32m~/.local/lib/python3.11/site-packages/matplotlib/axis.py:1246\u001b[0m, in \u001b[0;36mAxis._set_lim\u001b[0;34m(self, v0, v1, emit, auto)\u001b[0m\n\u001b[1;32m   1244\u001b[0m \u001b[39m# Mark viewlims as no longer stale without triggering an autoscale.\u001b[39;00m\n\u001b[1;32m   1245\u001b[0m \u001b[39mfor\u001b[39;00m ax \u001b[39min\u001b[39;00m \u001b[39mself\u001b[39m\u001b[39m.\u001b[39m_get_shared_axes():\n\u001b[0;32m-> 1246\u001b[0m     ax\u001b[39m.\u001b[39m_stale_viewlims[name] \u001b[39m=\u001b[39m \u001b[39mFalse\u001b[39;00m\n\u001b[1;32m   1247\u001b[0m \u001b[39mif\u001b[39;00m auto \u001b[39mis\u001b[39;00m \u001b[39mnot\u001b[39;00m \u001b[39mNone\u001b[39;00m:\n\u001b[1;32m   1248\u001b[0m     \u001b[39mself\u001b[39m\u001b[39m.\u001b[39m_set_autoscale_on(\u001b[39mbool\u001b[39m(auto))\n",
            "\u001b[0;31mKeyboardInterrupt\u001b[0m: "
          ]
        },
        {
          "name": "stdout",
          "output_type": "stream",
          "text": [
            "Error in callback <function _draw_all_if_interactive at 0x7fdf217a74c0> (for post_execute), with arguments args (),kwargs {}:\n"
          ]
        },
        {
          "ename": "ValueError",
          "evalue": "Image size of 3367500x300 pixels is too large. It must be less than 2^16 in each direction.",
          "output_type": "error",
          "traceback": [
            "\u001b[0;31m---------------------------------------------------------------------------\u001b[0m",
            "\u001b[0;31mValueError\u001b[0m                                Traceback (most recent call last)",
            "File \u001b[0;32m~/.local/lib/python3.11/site-packages/matplotlib/pyplot.py:197\u001b[0m, in \u001b[0;36m_draw_all_if_interactive\u001b[0;34m()\u001b[0m\n\u001b[1;32m    195\u001b[0m \u001b[39mdef\u001b[39;00m \u001b[39m_draw_all_if_interactive\u001b[39m() \u001b[39m-\u001b[39m\u001b[39m>\u001b[39m \u001b[39mNone\u001b[39;00m:\n\u001b[1;32m    196\u001b[0m     \u001b[39mif\u001b[39;00m matplotlib\u001b[39m.\u001b[39mis_interactive():\n\u001b[0;32m--> 197\u001b[0m         draw_all()\n",
            "File \u001b[0;32m~/.local/lib/python3.11/site-packages/matplotlib/_pylab_helpers.py:132\u001b[0m, in \u001b[0;36mGcf.draw_all\u001b[0;34m(cls, force)\u001b[0m\n\u001b[1;32m    130\u001b[0m \u001b[39mfor\u001b[39;00m manager \u001b[39min\u001b[39;00m \u001b[39mcls\u001b[39m\u001b[39m.\u001b[39mget_all_fig_managers():\n\u001b[1;32m    131\u001b[0m     \u001b[39mif\u001b[39;00m force \u001b[39mor\u001b[39;00m manager\u001b[39m.\u001b[39mcanvas\u001b[39m.\u001b[39mfigure\u001b[39m.\u001b[39mstale:\n\u001b[0;32m--> 132\u001b[0m         manager\u001b[39m.\u001b[39;49mcanvas\u001b[39m.\u001b[39;49mdraw_idle()\n",
            "File \u001b[0;32m~/.local/lib/python3.11/site-packages/matplotlib/backend_bases.py:1893\u001b[0m, in \u001b[0;36mFigureCanvasBase.draw_idle\u001b[0;34m(self, *args, **kwargs)\u001b[0m\n\u001b[1;32m   1891\u001b[0m \u001b[39mif\u001b[39;00m \u001b[39mnot\u001b[39;00m \u001b[39mself\u001b[39m\u001b[39m.\u001b[39m_is_idle_drawing:\n\u001b[1;32m   1892\u001b[0m     \u001b[39mwith\u001b[39;00m \u001b[39mself\u001b[39m\u001b[39m.\u001b[39m_idle_draw_cntx():\n\u001b[0;32m-> 1893\u001b[0m         \u001b[39mself\u001b[39;49m\u001b[39m.\u001b[39;49mdraw(\u001b[39m*\u001b[39;49margs, \u001b[39m*\u001b[39;49m\u001b[39m*\u001b[39;49mkwargs)\n",
            "File \u001b[0;32m~/.local/lib/python3.11/site-packages/matplotlib/backends/backend_agg.py:383\u001b[0m, in \u001b[0;36mFigureCanvasAgg.draw\u001b[0;34m(self)\u001b[0m\n\u001b[1;32m    381\u001b[0m \u001b[39mdef\u001b[39;00m \u001b[39mdraw\u001b[39m(\u001b[39mself\u001b[39m):\n\u001b[1;32m    382\u001b[0m     \u001b[39m# docstring inherited\u001b[39;00m\n\u001b[0;32m--> 383\u001b[0m     \u001b[39mself\u001b[39m\u001b[39m.\u001b[39mrenderer \u001b[39m=\u001b[39m \u001b[39mself\u001b[39;49m\u001b[39m.\u001b[39;49mget_renderer()\n\u001b[1;32m    384\u001b[0m     \u001b[39mself\u001b[39m\u001b[39m.\u001b[39mrenderer\u001b[39m.\u001b[39mclear()\n\u001b[1;32m    385\u001b[0m     \u001b[39m# Acquire a lock on the shared font cache.\u001b[39;00m\n",
            "File \u001b[0;32m~/.local/lib/python3.11/site-packages/matplotlib/backends/backend_agg.py:398\u001b[0m, in \u001b[0;36mFigureCanvasAgg.get_renderer\u001b[0;34m(self)\u001b[0m\n\u001b[1;32m    396\u001b[0m reuse_renderer \u001b[39m=\u001b[39m (\u001b[39mself\u001b[39m\u001b[39m.\u001b[39m_lastKey \u001b[39m==\u001b[39m key)\n\u001b[1;32m    397\u001b[0m \u001b[39mif\u001b[39;00m \u001b[39mnot\u001b[39;00m reuse_renderer:\n\u001b[0;32m--> 398\u001b[0m     \u001b[39mself\u001b[39m\u001b[39m.\u001b[39mrenderer \u001b[39m=\u001b[39m RendererAgg(w, h, \u001b[39mself\u001b[39;49m\u001b[39m.\u001b[39;49mfigure\u001b[39m.\u001b[39;49mdpi)\n\u001b[1;32m    399\u001b[0m     \u001b[39mself\u001b[39m\u001b[39m.\u001b[39m_lastKey \u001b[39m=\u001b[39m key\n\u001b[1;32m    400\u001b[0m \u001b[39mreturn\u001b[39;00m \u001b[39mself\u001b[39m\u001b[39m.\u001b[39mrenderer\n",
            "File \u001b[0;32m~/.local/lib/python3.11/site-packages/matplotlib/backends/backend_agg.py:70\u001b[0m, in \u001b[0;36mRendererAgg.__init__\u001b[0;34m(self, width, height, dpi)\u001b[0m\n\u001b[1;32m     68\u001b[0m \u001b[39mself\u001b[39m\u001b[39m.\u001b[39mwidth \u001b[39m=\u001b[39m width\n\u001b[1;32m     69\u001b[0m \u001b[39mself\u001b[39m\u001b[39m.\u001b[39mheight \u001b[39m=\u001b[39m height\n\u001b[0;32m---> 70\u001b[0m \u001b[39mself\u001b[39m\u001b[39m.\u001b[39m_renderer \u001b[39m=\u001b[39m _RendererAgg(\u001b[39mint\u001b[39;49m(width), \u001b[39mint\u001b[39;49m(height), dpi)\n\u001b[1;32m     71\u001b[0m \u001b[39mself\u001b[39m\u001b[39m.\u001b[39m_filter_renderers \u001b[39m=\u001b[39m []\n\u001b[1;32m     73\u001b[0m \u001b[39mself\u001b[39m\u001b[39m.\u001b[39m_update_methods()\n",
            "\u001b[0;31mValueError\u001b[0m: Image size of 3367500x300 pixels is too large. It must be less than 2^16 in each direction."
          ]
        },
        {
          "ename": "ValueError",
          "evalue": "Image size of 3367500x300 pixels is too large. It must be less than 2^16 in each direction.",
          "output_type": "error",
          "traceback": [
            "\u001b[0;31m---------------------------------------------------------------------------\u001b[0m",
            "\u001b[0;31mValueError\u001b[0m                                Traceback (most recent call last)",
            "File \u001b[0;32m~/.local/lib/python3.11/site-packages/IPython/core/formatters.py:340\u001b[0m, in \u001b[0;36mBaseFormatter.__call__\u001b[0;34m(self, obj)\u001b[0m\n\u001b[1;32m    338\u001b[0m     \u001b[39mpass\u001b[39;00m\n\u001b[1;32m    339\u001b[0m \u001b[39melse\u001b[39;00m:\n\u001b[0;32m--> 340\u001b[0m     \u001b[39mreturn\u001b[39;00m printer(obj)\n\u001b[1;32m    341\u001b[0m \u001b[39m# Finally look for special method names\u001b[39;00m\n\u001b[1;32m    342\u001b[0m method \u001b[39m=\u001b[39m get_real_method(obj, \u001b[39mself\u001b[39m\u001b[39m.\u001b[39mprint_method)\n",
            "File \u001b[0;32m~/.local/lib/python3.11/site-packages/IPython/core/pylabtools.py:152\u001b[0m, in \u001b[0;36mprint_figure\u001b[0;34m(fig, fmt, bbox_inches, base64, **kwargs)\u001b[0m\n\u001b[1;32m    149\u001b[0m     \u001b[39mfrom\u001b[39;00m \u001b[39mmatplotlib\u001b[39;00m\u001b[39m.\u001b[39;00m\u001b[39mbackend_bases\u001b[39;00m \u001b[39mimport\u001b[39;00m FigureCanvasBase\n\u001b[1;32m    150\u001b[0m     FigureCanvasBase(fig)\n\u001b[0;32m--> 152\u001b[0m fig\u001b[39m.\u001b[39;49mcanvas\u001b[39m.\u001b[39;49mprint_figure(bytes_io, \u001b[39m*\u001b[39;49m\u001b[39m*\u001b[39;49mkw)\n\u001b[1;32m    153\u001b[0m data \u001b[39m=\u001b[39m bytes_io\u001b[39m.\u001b[39mgetvalue()\n\u001b[1;32m    154\u001b[0m \u001b[39mif\u001b[39;00m fmt \u001b[39m==\u001b[39m \u001b[39m'\u001b[39m\u001b[39msvg\u001b[39m\u001b[39m'\u001b[39m:\n",
            "File \u001b[0;32m~/.local/lib/python3.11/site-packages/matplotlib/backend_bases.py:2156\u001b[0m, in \u001b[0;36mFigureCanvasBase.print_figure\u001b[0;34m(self, filename, dpi, facecolor, edgecolor, orientation, format, bbox_inches, pad_inches, bbox_extra_artists, backend, **kwargs)\u001b[0m\n\u001b[1;32m   2151\u001b[0m layout_engine \u001b[39m=\u001b[39m \u001b[39mself\u001b[39m\u001b[39m.\u001b[39mfigure\u001b[39m.\u001b[39mget_layout_engine()\n\u001b[1;32m   2152\u001b[0m \u001b[39mif\u001b[39;00m layout_engine \u001b[39mis\u001b[39;00m \u001b[39mnot\u001b[39;00m \u001b[39mNone\u001b[39;00m \u001b[39mor\u001b[39;00m bbox_inches \u001b[39m==\u001b[39m \u001b[39m\"\u001b[39m\u001b[39mtight\u001b[39m\u001b[39m\"\u001b[39m:\n\u001b[1;32m   2153\u001b[0m     \u001b[39m# we need to trigger a draw before printing to make sure\u001b[39;00m\n\u001b[1;32m   2154\u001b[0m     \u001b[39m# CL works.  \"tight\" also needs a draw to get the right\u001b[39;00m\n\u001b[1;32m   2155\u001b[0m     \u001b[39m# locations:\u001b[39;00m\n\u001b[0;32m-> 2156\u001b[0m     renderer \u001b[39m=\u001b[39m _get_renderer(\n\u001b[1;32m   2157\u001b[0m         \u001b[39mself\u001b[39;49m\u001b[39m.\u001b[39;49mfigure,\n\u001b[1;32m   2158\u001b[0m         functools\u001b[39m.\u001b[39;49mpartial(\n\u001b[1;32m   2159\u001b[0m             print_method, orientation\u001b[39m=\u001b[39;49morientation)\n\u001b[1;32m   2160\u001b[0m     )\n\u001b[1;32m   2161\u001b[0m     \u001b[39m# we do this instead of `self.figure.draw_without_rendering`\u001b[39;00m\n\u001b[1;32m   2162\u001b[0m     \u001b[39m# so that we can inject the orientation\u001b[39;00m\n\u001b[1;32m   2163\u001b[0m     \u001b[39mwith\u001b[39;00m \u001b[39mgetattr\u001b[39m(renderer, \u001b[39m\"\u001b[39m\u001b[39m_draw_disabled\u001b[39m\u001b[39m\"\u001b[39m, nullcontext)():\n",
            "File \u001b[0;32m~/.local/lib/python3.11/site-packages/matplotlib/backend_bases.py:1642\u001b[0m, in \u001b[0;36m_get_renderer\u001b[0;34m(figure, print_method)\u001b[0m\n\u001b[1;32m   1639\u001b[0m     print_method \u001b[39m=\u001b[39m stack\u001b[39m.\u001b[39menter_context(\n\u001b[1;32m   1640\u001b[0m         figure\u001b[39m.\u001b[39mcanvas\u001b[39m.\u001b[39m_switch_canvas_and_return_print_method(fmt))\n\u001b[1;32m   1641\u001b[0m \u001b[39mtry\u001b[39;00m:\n\u001b[0;32m-> 1642\u001b[0m     print_method(io\u001b[39m.\u001b[39;49mBytesIO())\n\u001b[1;32m   1643\u001b[0m \u001b[39mexcept\u001b[39;00m Done \u001b[39mas\u001b[39;00m exc:\n\u001b[1;32m   1644\u001b[0m     renderer, \u001b[39m=\u001b[39m exc\u001b[39m.\u001b[39margs\n",
            "File \u001b[0;32m~/.local/lib/python3.11/site-packages/matplotlib/backend_bases.py:2043\u001b[0m, in \u001b[0;36mFigureCanvasBase._switch_canvas_and_return_print_method.<locals>.<lambda>\u001b[0;34m(*args, **kwargs)\u001b[0m\n\u001b[1;32m   2039\u001b[0m     optional_kws \u001b[39m=\u001b[39m {  \u001b[39m# Passed by print_figure for other renderers.\u001b[39;00m\n\u001b[1;32m   2040\u001b[0m         \u001b[39m\"\u001b[39m\u001b[39mdpi\u001b[39m\u001b[39m\"\u001b[39m, \u001b[39m\"\u001b[39m\u001b[39mfacecolor\u001b[39m\u001b[39m\"\u001b[39m, \u001b[39m\"\u001b[39m\u001b[39medgecolor\u001b[39m\u001b[39m\"\u001b[39m, \u001b[39m\"\u001b[39m\u001b[39morientation\u001b[39m\u001b[39m\"\u001b[39m,\n\u001b[1;32m   2041\u001b[0m         \u001b[39m\"\u001b[39m\u001b[39mbbox_inches_restore\u001b[39m\u001b[39m\"\u001b[39m}\n\u001b[1;32m   2042\u001b[0m     skip \u001b[39m=\u001b[39m optional_kws \u001b[39m-\u001b[39m {\u001b[39m*\u001b[39minspect\u001b[39m.\u001b[39msignature(meth)\u001b[39m.\u001b[39mparameters}\n\u001b[0;32m-> 2043\u001b[0m     print_method \u001b[39m=\u001b[39m functools\u001b[39m.\u001b[39mwraps(meth)(\u001b[39mlambda\u001b[39;00m \u001b[39m*\u001b[39margs, \u001b[39m*\u001b[39m\u001b[39m*\u001b[39mkwargs: meth(\n\u001b[1;32m   2044\u001b[0m         \u001b[39m*\u001b[39;49margs, \u001b[39m*\u001b[39;49m\u001b[39m*\u001b[39;49m{k: v \u001b[39mfor\u001b[39;49;00m k, v \u001b[39min\u001b[39;49;00m kwargs\u001b[39m.\u001b[39;49mitems() \u001b[39mif\u001b[39;49;00m k \u001b[39mnot\u001b[39;49;00m \u001b[39min\u001b[39;49;00m skip}))\n\u001b[1;32m   2045\u001b[0m \u001b[39melse\u001b[39;00m:  \u001b[39m# Let third-parties do as they see fit.\u001b[39;00m\n\u001b[1;32m   2046\u001b[0m     print_method \u001b[39m=\u001b[39m meth\n",
            "File \u001b[0;32m~/.local/lib/python3.11/site-packages/matplotlib/backends/backend_agg.py:497\u001b[0m, in \u001b[0;36mFigureCanvasAgg.print_png\u001b[0;34m(self, filename_or_obj, metadata, pil_kwargs)\u001b[0m\n\u001b[1;32m    450\u001b[0m \u001b[39mdef\u001b[39;00m \u001b[39mprint_png\u001b[39m(\u001b[39mself\u001b[39m, filename_or_obj, \u001b[39m*\u001b[39m, metadata\u001b[39m=\u001b[39m\u001b[39mNone\u001b[39;00m, pil_kwargs\u001b[39m=\u001b[39m\u001b[39mNone\u001b[39;00m):\n\u001b[1;32m    451\u001b[0m \u001b[39m    \u001b[39m\u001b[39m\"\"\"\u001b[39;00m\n\u001b[1;32m    452\u001b[0m \u001b[39m    Write the figure to a PNG file.\u001b[39;00m\n\u001b[1;32m    453\u001b[0m \n\u001b[0;32m   (...)\u001b[0m\n\u001b[1;32m    495\u001b[0m \u001b[39m        *metadata*, including the default 'Software' key.\u001b[39;00m\n\u001b[1;32m    496\u001b[0m \u001b[39m    \"\"\"\u001b[39;00m\n\u001b[0;32m--> 497\u001b[0m     \u001b[39mself\u001b[39;49m\u001b[39m.\u001b[39;49m_print_pil(filename_or_obj, \u001b[39m\"\u001b[39;49m\u001b[39mpng\u001b[39;49m\u001b[39m\"\u001b[39;49m, pil_kwargs, metadata)\n",
            "File \u001b[0;32m~/.local/lib/python3.11/site-packages/matplotlib/backends/backend_agg.py:445\u001b[0m, in \u001b[0;36mFigureCanvasAgg._print_pil\u001b[0;34m(self, filename_or_obj, fmt, pil_kwargs, metadata)\u001b[0m\n\u001b[1;32m    440\u001b[0m \u001b[39mdef\u001b[39;00m \u001b[39m_print_pil\u001b[39m(\u001b[39mself\u001b[39m, filename_or_obj, fmt, pil_kwargs, metadata\u001b[39m=\u001b[39m\u001b[39mNone\u001b[39;00m):\n\u001b[1;32m    441\u001b[0m \u001b[39m    \u001b[39m\u001b[39m\"\"\"\u001b[39;00m\n\u001b[1;32m    442\u001b[0m \u001b[39m    Draw the canvas, then save it using `.image.imsave` (to which\u001b[39;00m\n\u001b[1;32m    443\u001b[0m \u001b[39m    *pil_kwargs* and *metadata* are forwarded).\u001b[39;00m\n\u001b[1;32m    444\u001b[0m \u001b[39m    \"\"\"\u001b[39;00m\n\u001b[0;32m--> 445\u001b[0m     FigureCanvasAgg\u001b[39m.\u001b[39;49mdraw(\u001b[39mself\u001b[39;49m)\n\u001b[1;32m    446\u001b[0m     mpl\u001b[39m.\u001b[39mimage\u001b[39m.\u001b[39mimsave(\n\u001b[1;32m    447\u001b[0m         filename_or_obj, \u001b[39mself\u001b[39m\u001b[39m.\u001b[39mbuffer_rgba(), \u001b[39mformat\u001b[39m\u001b[39m=\u001b[39mfmt, origin\u001b[39m=\u001b[39m\u001b[39m\"\u001b[39m\u001b[39mupper\u001b[39m\u001b[39m\"\u001b[39m,\n\u001b[1;32m    448\u001b[0m         dpi\u001b[39m=\u001b[39m\u001b[39mself\u001b[39m\u001b[39m.\u001b[39mfigure\u001b[39m.\u001b[39mdpi, metadata\u001b[39m=\u001b[39mmetadata, pil_kwargs\u001b[39m=\u001b[39mpil_kwargs)\n",
            "File \u001b[0;32m~/.local/lib/python3.11/site-packages/matplotlib/backends/backend_agg.py:383\u001b[0m, in \u001b[0;36mFigureCanvasAgg.draw\u001b[0;34m(self)\u001b[0m\n\u001b[1;32m    381\u001b[0m \u001b[39mdef\u001b[39;00m \u001b[39mdraw\u001b[39m(\u001b[39mself\u001b[39m):\n\u001b[1;32m    382\u001b[0m     \u001b[39m# docstring inherited\u001b[39;00m\n\u001b[0;32m--> 383\u001b[0m     \u001b[39mself\u001b[39m\u001b[39m.\u001b[39mrenderer \u001b[39m=\u001b[39m \u001b[39mself\u001b[39;49m\u001b[39m.\u001b[39;49mget_renderer()\n\u001b[1;32m    384\u001b[0m     \u001b[39mself\u001b[39m\u001b[39m.\u001b[39mrenderer\u001b[39m.\u001b[39mclear()\n\u001b[1;32m    385\u001b[0m     \u001b[39m# Acquire a lock on the shared font cache.\u001b[39;00m\n",
            "File \u001b[0;32m~/.local/lib/python3.11/site-packages/matplotlib/backends/backend_agg.py:398\u001b[0m, in \u001b[0;36mFigureCanvasAgg.get_renderer\u001b[0;34m(self)\u001b[0m\n\u001b[1;32m    396\u001b[0m reuse_renderer \u001b[39m=\u001b[39m (\u001b[39mself\u001b[39m\u001b[39m.\u001b[39m_lastKey \u001b[39m==\u001b[39m key)\n\u001b[1;32m    397\u001b[0m \u001b[39mif\u001b[39;00m \u001b[39mnot\u001b[39;00m reuse_renderer:\n\u001b[0;32m--> 398\u001b[0m     \u001b[39mself\u001b[39m\u001b[39m.\u001b[39mrenderer \u001b[39m=\u001b[39m RendererAgg(w, h, \u001b[39mself\u001b[39;49m\u001b[39m.\u001b[39;49mfigure\u001b[39m.\u001b[39;49mdpi)\n\u001b[1;32m    399\u001b[0m     \u001b[39mself\u001b[39m\u001b[39m.\u001b[39m_lastKey \u001b[39m=\u001b[39m key\n\u001b[1;32m    400\u001b[0m \u001b[39mreturn\u001b[39;00m \u001b[39mself\u001b[39m\u001b[39m.\u001b[39mrenderer\n",
            "File \u001b[0;32m~/.local/lib/python3.11/site-packages/matplotlib/backends/backend_agg.py:70\u001b[0m, in \u001b[0;36mRendererAgg.__init__\u001b[0;34m(self, width, height, dpi)\u001b[0m\n\u001b[1;32m     68\u001b[0m \u001b[39mself\u001b[39m\u001b[39m.\u001b[39mwidth \u001b[39m=\u001b[39m width\n\u001b[1;32m     69\u001b[0m \u001b[39mself\u001b[39m\u001b[39m.\u001b[39mheight \u001b[39m=\u001b[39m height\n\u001b[0;32m---> 70\u001b[0m \u001b[39mself\u001b[39m\u001b[39m.\u001b[39m_renderer \u001b[39m=\u001b[39m _RendererAgg(\u001b[39mint\u001b[39;49m(width), \u001b[39mint\u001b[39;49m(height), dpi)\n\u001b[1;32m     71\u001b[0m \u001b[39mself\u001b[39m\u001b[39m.\u001b[39m_filter_renderers \u001b[39m=\u001b[39m []\n\u001b[1;32m     73\u001b[0m \u001b[39mself\u001b[39m\u001b[39m.\u001b[39m_update_methods()\n",
            "\u001b[0;31mValueError\u001b[0m: Image size of 3367500x300 pixels is too large. It must be less than 2^16 in each direction."
          ]
        },
        {
          "data": {
            "text/plain": [
              "<Figure size 3.3675e+06x300 with 2567 Axes>"
            ]
          },
          "metadata": {},
          "output_type": "display_data"
        }
      ],
      "source": [
        "def plt_bar_plot(x, y, title, label_x, label_y):\n",
        "    plt.bar(x, y)\n",
        "    plt.xlabel(label_x)\n",
        "    plt.ylabel(label_y)\n",
        "    plt.title(title)\n",
        "    plt.show()\n",
        "    plt_bar_plot(x, y, 'Distribusi jarak rumah dari laut', 'Jarak dari laut', 'jumlah')\n",
        "\n",
        "# dist_plot(data['median_house_value'], \"Dist plot median_house_value\")\n",
        "# dist_plot(data['median_house_value'], \"Dist plot median_house_value\")\n",
        "# dist_plot(data['median_house_value'], \"Dist plot median_house_value\")\n",
        "# dist_plot(data['median_house_value'], \"Dist plot median_house_value\")\n",
        "# dist_plot(data['median_house_value'], \"Dist plot median_house_value\")\n",
        "# dist_plot(data['median_house_value'], \"Dist plot median_house_value\")\n",
        "# dist_plot(data['median_house_value'], \"Dist plot median_house_value\")\n",
        "\n",
        "def plt_hist(x, y, title, label_x, label_y):\n",
        "    plt.hist(y, x)\n",
        "    plt.xlabel(label_x)\n",
        "    plt.ylabel(label_y)\n",
        "    plt.title(title)\n",
        "    plt.show()\n",
        "\n",
        "def dist_plot(df, title):\n",
        "    plt.figure(figsize=(10, 4))\n",
        "    sns.displot(df)\n",
        "    plt.title(title)\n",
        "    sns.despine()\n",
        "    plt.show()\n",
        "\n",
        "g = sns.FacetGrid(data, col='median_income')\n",
        "g.map_dataframe(sns.histplot)"
      ]
    },
    {
      "cell_type": "markdown",
      "metadata": {
        "id": "8KGzWOoUGEHw"
      },
      "source": [
        "#### Univariate"
      ]
    },
    {
      "cell_type": "markdown",
      "metadata": {
        "id": "Q3m7mqxqGUSy"
      },
      "source": [
        "#### Distribusi jarak rumah dari laut"
      ]
    },
    {
      "cell_type": "code",
      "execution_count": 12,
      "metadata": {
        "colab": {
          "background_save": true,
          "base_uri": "https://localhost:8080/",
          "height": 472
        },
        "id": "ZTY6pLeuksx0",
        "outputId": "fa4778ce-d4dc-462a-99a4-d61a3c7c16e8"
      },
      "outputs": [
        {
          "data": {
            "image/png": "[encoded data removed]",
            "text/plain": [
              "<Figure size 640x480 with 1 Axes>"
            ]
          },
          "metadata": {},
          "output_type": "display_data"
        },
        {
          "data": {
            "text/plain": [
              "<Figure size 1000x400 with 0 Axes>"
            ]
          },
          "metadata": {},
          "output_type": "display_data"
        },
        {
          "data": {
            "image/png": "[encoded data removed]",
            "text/plain": [
              "<Figure size 500x500 with 1 Axes>"
            ]
          },
          "metadata": {},
          "output_type": "display_data"
        },
        {
          "data": {
            "text/plain": [
              "<Figure size 1000x400 with 0 Axes>"
            ]
          },
          "metadata": {},
          "output_type": "display_data"
        },
        {
          "data": {
            "image/png": "[encoded data removed]",
            "text/plain": [
              "<Figure size 500x500 with 1 Axes>"
            ]
          },
          "metadata": {},
          "output_type": "display_data"
        },
        {
          "data": {
            "text/plain": [
              "<Figure size 1000x400 with 0 Axes>"
            ]
          },
          "metadata": {},
          "output_type": "display_data"
        },
        {
          "data": {
            "image/png": "[encoded data removed]",
            "text/plain": [
              "<Figure size 500x500 with 1 Axes>"
            ]
          },
          "metadata": {},
          "output_type": "display_data"
        },
        {
          "data": {
            "text/plain": [
              "<Figure size 1000x400 with 0 Axes>"
            ]
          },
          "metadata": {},
          "output_type": "display_data"
        },
        {
          "data": {
            "image/png": "[encoded data removed]",
            "text/plain": [
              "<Figure size 500x500 with 1 Axes>"
            ]
          },
          "metadata": {},
          "output_type": "display_data"
        },
        {
          "data": {
            "text/plain": [
              "<Figure size 1000x400 with 0 Axes>"
            ]
          },
          "metadata": {},
          "output_type": "display_data"
        },
        {
          "data": {
            "image/png": "[encoded data removed]",
            "text/plain": [
              "<Figure size 500x500 with 1 Axes>"
            ]
          },
          "metadata": {},
          "output_type": "display_data"
        },
        {
          "data": {
            "text/plain": [
              "<Figure size 1000x400 with 0 Axes>"
            ]
          },
          "metadata": {},
          "output_type": "display_data"
        },
        {
          "data": {
            "image/png": "[encoded data removed]",
            "text/plain": [
              "<Figure size 500x500 with 1 Axes>"
            ]
          },
          "metadata": {},
          "output_type": "display_data"
        },
        {
          "data": {
            "text/plain": [
              "<Figure size 1000x400 with 0 Axes>"
            ]
          },
          "metadata": {},
          "output_type": "display_data"
        },
        {
          "data": {
            "image/png": "[encoded data removed]",
            "text/plain": [
              "<Figure size 500x500 with 1 Axes>"
            ]
          },
          "metadata": {},
          "output_type": "display_data"
        }
      ],
      "source": [
        "x = data['ocean_proximity'].unique()\n",
        "y = data['ocean_proximity'].value_counts()\n",
        "\n",
        "# plt_bar_plot(x, y, 'Distribusi jarak rumah dari laut', 'Jarak dari laut', 'jumlah')\n",
        "\n",
        "# dist_plot(data['median_house_value'], \"Dist plot median_house_value\")\n",
        "# dist_plot(data['median_house_value'], \"Dist plot median_house_value\")\n",
        "# dist_plot(data['median_house_value'], \"Dist plot median_house_value\")\n",
        "# dist_plot(data['median_house_value'], \"Dist plot median_house_value\")\n",
        "# dist_plot(data['median_house_value'], \"Dist plot median_house_value\")\n",
        "# dist_plot(data['median_house_value'], \"Dist plot median_house_value\")\n",
        "# dist_plot(data['median_house_value'], \"Dist plot median_house_value\")\n"
      ]
    },
    {
      "cell_type": "markdown",
      "metadata": {
        "id": "_ZUtzYpwIgJh"
      },
      "source": [
        "## **Machine Learning**"
      ]
    },
    {
      "cell_type": "markdown",
      "metadata": {
        "id": "FSTBusl_IvqJ"
      },
      "source": [
        "### **Data preprocessing**"
      ]
    },
    {
      "cell_type": "code",
      "execution_count": 13,
      "metadata": {
        "colab": {
          "background_save": true
        },
        "id": "q3sZeJc_M6tu"
      },
      "outputs": [],
      "source": [
        "from sklearn.model_selection import train_test_split\n",
        "from sklearn.preprocessing import MinMaxScaler, OneHotEncoder, StandardScaler"
      ]
    },
    {
      "cell_type": "markdown",
      "metadata": {
        "id": "ojq328qNI2XU"
      },
      "source": [
        "#### Split"
      ]
    },
    {
      "cell_type": "code",
      "execution_count": 14,
      "metadata": {
        "colab": {
          "background_save": true,
          "base_uri": "https://localhost:8080/"
        },
        "id": "Old1s1ELHcpU",
        "outputId": "9f25e64a-c5b4-4170-9978-92526f8e2ce1"
      },
      "outputs": [
        {
          "name": "stdout",
          "output_type": "stream",
          "text": [
            "banyak data:  18297\n",
            "banyak data test:  3660\n",
            "banyak data train:  14637\n"
          ]
        }
      ],
      "source": [
        "train, test = train_test_split(data, test_size = 0.20, random_state=3054)\n",
        "\n",
        "print('banyak data: ', len(data))\n",
        "print('banyak data test: ', len(test))\n",
        "print('banyak data train: ', len(train))"
      ]
    },
    {
      "cell_type": "code",
      "execution_count": 15,
      "metadata": {
        "colab": {
          "background_save": true,
          "base_uri": "https://localhost:8080/",
          "height": 424
        },
        "id": "5LI1VLAeJeLN",
        "outputId": "aac88972-6a70-4962-e2f2-5874969b8ddd"
      },
      "outputs": [
        {
          "data": {
            "text/html": [
              "<div>\n",
              "<style scoped>\n",
              "    .dataframe tbody tr th:only-of-type {\n",
              "        vertical-align: middle;\n",
              "    }\n",
              "\n",
              "    .dataframe tbody tr th {\n",
              "        vertical-align: top;\n",
              "    }\n",
              "\n",
              "    .dataframe thead th {\n",
              "        text-align: right;\n",
              "    }\n",
              "</style>\n",
              "<table border=\"1\" class=\"dataframe\">\n",
              "  <thead>\n",
              "    <tr style=\"text-align: right;\">\n",
              "      <th></th>\n",
              "      <th>longitude</th>\n",
              "      <th>latitude</th>\n",
              "      <th>housing_median_age</th>\n",
              "      <th>total_rooms</th>\n",
              "      <th>total_bedrooms</th>\n",
              "      <th>population</th>\n",
              "      <th>households</th>\n",
              "      <th>median_income</th>\n",
              "      <th>ocean_proximity</th>\n",
              "    </tr>\n",
              "  </thead>\n",
              "  <tbody>\n",
              "    <tr>\n",
              "      <th>14322</th>\n",
              "      <td>-117.15</td>\n",
              "      <td>32.70</td>\n",
              "      <td>52.0</td>\n",
              "      <td>458.0</td>\n",
              "      <td>148.0</td>\n",
              "      <td>1283.0</td>\n",
              "      <td>166.0</td>\n",
              "      <td>1.2863</td>\n",
              "      <td>NEAR OCEAN</td>\n",
              "    </tr>\n",
              "    <tr>\n",
              "      <th>9922</th>\n",
              "      <td>-122.32</td>\n",
              "      <td>38.32</td>\n",
              "      <td>22.0</td>\n",
              "      <td>2483.0</td>\n",
              "      <td>528.0</td>\n",
              "      <td>1478.0</td>\n",
              "      <td>492.0</td>\n",
              "      <td>4.0878</td>\n",
              "      <td>NEAR OCEAN</td>\n",
              "    </tr>\n",
              "    <tr>\n",
              "      <th>16110</th>\n",
              "      <td>-122.49</td>\n",
              "      <td>37.74</td>\n",
              "      <td>44.0</td>\n",
              "      <td>1472.0</td>\n",
              "      <td>275.0</td>\n",
              "      <td>820.0</td>\n",
              "      <td>310.0</td>\n",
              "      <td>5.6826</td>\n",
              "      <td>NEAR OCEAN</td>\n",
              "    </tr>\n",
              "    <tr>\n",
              "      <th>3161</th>\n",
              "      <td>-118.85</td>\n",
              "      <td>35.23</td>\n",
              "      <td>26.0</td>\n",
              "      <td>1639.0</td>\n",
              "      <td>352.0</td>\n",
              "      <td>1222.0</td>\n",
              "      <td>395.0</td>\n",
              "      <td>1.7656</td>\n",
              "      <td>INLAND</td>\n",
              "    </tr>\n",
              "    <tr>\n",
              "      <th>20548</th>\n",
              "      <td>-121.76</td>\n",
              "      <td>38.68</td>\n",
              "      <td>38.0</td>\n",
              "      <td>674.0</td>\n",
              "      <td>178.0</td>\n",
              "      <td>701.0</td>\n",
              "      <td>189.0</td>\n",
              "      <td>1.3942</td>\n",
              "      <td>INLAND</td>\n",
              "    </tr>\n",
              "    <tr>\n",
              "      <th>...</th>\n",
              "      <td>...</td>\n",
              "      <td>...</td>\n",
              "      <td>...</td>\n",
              "      <td>...</td>\n",
              "      <td>...</td>\n",
              "      <td>...</td>\n",
              "      <td>...</td>\n",
              "      <td>...</td>\n",
              "      <td>...</td>\n",
              "    </tr>\n",
              "    <tr>\n",
              "      <th>775</th>\n",
              "      <td>-122.10</td>\n",
              "      <td>37.65</td>\n",
              "      <td>25.0</td>\n",
              "      <td>2538.0</td>\n",
              "      <td>494.0</td>\n",
              "      <td>1185.0</td>\n",
              "      <td>501.0</td>\n",
              "      <td>4.5417</td>\n",
              "      <td>NEAR OCEAN</td>\n",
              "    </tr>\n",
              "    <tr>\n",
              "      <th>10423</th>\n",
              "      <td>-117.62</td>\n",
              "      <td>33.47</td>\n",
              "      <td>4.0</td>\n",
              "      <td>1812.0</td>\n",
              "      <td>255.0</td>\n",
              "      <td>661.0</td>\n",
              "      <td>211.0</td>\n",
              "      <td>6.4870</td>\n",
              "      <td>NEAR OCEAN</td>\n",
              "    </tr>\n",
              "    <tr>\n",
              "      <th>17912</th>\n",
              "      <td>-121.98</td>\n",
              "      <td>37.36</td>\n",
              "      <td>35.0</td>\n",
              "      <td>1293.0</td>\n",
              "      <td>223.0</td>\n",
              "      <td>701.0</td>\n",
              "      <td>216.0</td>\n",
              "      <td>7.8543</td>\n",
              "      <td>&lt;1H OCEAN</td>\n",
              "    </tr>\n",
              "    <tr>\n",
              "      <th>6690</th>\n",
              "      <td>-118.08</td>\n",
              "      <td>34.14</td>\n",
              "      <td>52.0</td>\n",
              "      <td>1282.0</td>\n",
              "      <td>189.0</td>\n",
              "      <td>431.0</td>\n",
              "      <td>187.0</td>\n",
              "      <td>6.1159</td>\n",
              "      <td>INLAND</td>\n",
              "    </tr>\n",
              "    <tr>\n",
              "      <th>14442</th>\n",
              "      <td>-117.25</td>\n",
              "      <td>32.80</td>\n",
              "      <td>35.0</td>\n",
              "      <td>2281.0</td>\n",
              "      <td>506.0</td>\n",
              "      <td>1005.0</td>\n",
              "      <td>496.0</td>\n",
              "      <td>4.2296</td>\n",
              "      <td>NEAR OCEAN</td>\n",
              "    </tr>\n",
              "  </tbody>\n",
              "</table>\n",
              "<p>14637 rows × 9 columns</p>\n",
              "</div>"
            ],
            "text/plain": [
              "       longitude  latitude  housing_median_age  total_rooms  total_bedrooms  \\\n",
              "14322    -117.15     32.70                52.0        458.0           148.0   \n",
              "9922     -122.32     38.32                22.0       2483.0           528.0   \n",
              "16110    -122.49     37.74                44.0       1472.0           275.0   \n",
              "3161     -118.85     35.23                26.0       1639.0           352.0   \n",
              "20548    -121.76     38.68                38.0        674.0           178.0   \n",
              "...          ...       ...                 ...          ...             ...   \n",
              "775      -122.10     37.65                25.0       2538.0           494.0   \n",
              "10423    -117.62     33.47                 4.0       1812.0           255.0   \n",
              "17912    -121.98     37.36                35.0       1293.0           223.0   \n",
              "6690     -118.08     34.14                52.0       1282.0           189.0   \n",
              "14442    -117.25     32.80                35.0       2281.0           506.0   \n",
              "\n",
              "       population  households  median_income ocean_proximity  \n",
              "14322      1283.0       166.0         1.2863      NEAR OCEAN  \n",
              "9922       1478.0       492.0         4.0878      NEAR OCEAN  \n",
              "16110       820.0       310.0         5.6826      NEAR OCEAN  \n",
              "3161       1222.0       395.0         1.7656          INLAND  \n",
              "20548       701.0       189.0         1.3942          INLAND  \n",
              "...           ...         ...            ...             ...  \n",
              "775        1185.0       501.0         4.5417      NEAR OCEAN  \n",
              "10423       661.0       211.0         6.4870      NEAR OCEAN  \n",
              "17912       701.0       216.0         7.8543       <1H OCEAN  \n",
              "6690        431.0       187.0         6.1159          INLAND  \n",
              "14442      1005.0       496.0         4.2296      NEAR OCEAN  \n",
              "\n",
              "[14637 rows x 9 columns]"
            ]
          },
          "execution_count": 15,
          "metadata": {},
          "output_type": "execute_result"
        }
      ],
      "source": [
        "label_regresi = 'median_house_value'\n",
        "\n",
        "# Train data\n",
        "train_data = train.drop(label_regresi, axis=1)\n",
        "train_label_regresi = train[label_regresi]\n",
        "\n",
        "# Test data\n",
        "test_data = test.drop(label_regresi, axis=1)\n",
        "test_label_regresi = test[label_regresi]\n",
        "\n",
        "train_data"
      ]
    },
    {
      "cell_type": "markdown",
      "metadata": {
        "id": "YF7mrcpHNyu_"
      },
      "source": [
        "#### Feature transformation"
      ]
    },
    {
      "cell_type": "code",
      "execution_count": 16,
      "metadata": {
        "colab": {
          "background_save": true
        },
        "id": "3wjhkK4aN2pf"
      },
      "outputs": [],
      "source": [
        "kolom_objek = train_data.select_dtypes(include=object).columns.tolist()\n",
        "kolom_numerik = train_data.select_dtypes(include=object).columns.tolist()"
      ]
    },
    {
      "cell_type": "code",
      "execution_count": 17,
      "metadata": {
        "colab": {
          "background_save": true,
          "base_uri": "https://localhost:8080/",
          "height": 244
        },
        "id": "nJ8pErHwOcUC",
        "outputId": "461887b4-3e1f-40c4-f477-ad024c09a70a"
      },
      "outputs": [
        {
          "data": {
            "text/html": [
              "<div>\n",
              "<style scoped>\n",
              "    .dataframe tbody tr th:only-of-type {\n",
              "        vertical-align: middle;\n",
              "    }\n",
              "\n",
              "    .dataframe tbody tr th {\n",
              "        vertical-align: top;\n",
              "    }\n",
              "\n",
              "    .dataframe thead th {\n",
              "        text-align: right;\n",
              "    }\n",
              "</style>\n",
              "<table border=\"1\" class=\"dataframe\">\n",
              "  <thead>\n",
              "    <tr style=\"text-align: right;\">\n",
              "      <th></th>\n",
              "      <th>longitude</th>\n",
              "      <th>latitude</th>\n",
              "      <th>housing_median_age</th>\n",
              "      <th>total_rooms</th>\n",
              "      <th>total_bedrooms</th>\n",
              "      <th>population</th>\n",
              "      <th>households</th>\n",
              "      <th>median_income</th>\n",
              "      <th>ocean_proximity_&lt;1H OCEAN</th>\n",
              "      <th>ocean_proximity_INLAND</th>\n",
              "      <th>ocean_proximity_NEAR OCEAN</th>\n",
              "    </tr>\n",
              "  </thead>\n",
              "  <tbody>\n",
              "    <tr>\n",
              "      <th>0</th>\n",
              "      <td>-117.15</td>\n",
              "      <td>32.70</td>\n",
              "      <td>52.0</td>\n",
              "      <td>458.0</td>\n",
              "      <td>148.0</td>\n",
              "      <td>1283.0</td>\n",
              "      <td>166.0</td>\n",
              "      <td>1.2863</td>\n",
              "      <td>0.0</td>\n",
              "      <td>0.0</td>\n",
              "      <td>1.0</td>\n",
              "    </tr>\n",
              "    <tr>\n",
              "      <th>1</th>\n",
              "      <td>-122.32</td>\n",
              "      <td>38.32</td>\n",
              "      <td>22.0</td>\n",
              "      <td>2483.0</td>\n",
              "      <td>528.0</td>\n",
              "      <td>1478.0</td>\n",
              "      <td>492.0</td>\n",
              "      <td>4.0878</td>\n",
              "      <td>0.0</td>\n",
              "      <td>0.0</td>\n",
              "      <td>1.0</td>\n",
              "    </tr>\n",
              "    <tr>\n",
              "      <th>2</th>\n",
              "      <td>-122.49</td>\n",
              "      <td>37.74</td>\n",
              "      <td>44.0</td>\n",
              "      <td>1472.0</td>\n",
              "      <td>275.0</td>\n",
              "      <td>820.0</td>\n",
              "      <td>310.0</td>\n",
              "      <td>5.6826</td>\n",
              "      <td>0.0</td>\n",
              "      <td>0.0</td>\n",
              "      <td>1.0</td>\n",
              "    </tr>\n",
              "    <tr>\n",
              "      <th>3</th>\n",
              "      <td>-118.85</td>\n",
              "      <td>35.23</td>\n",
              "      <td>26.0</td>\n",
              "      <td>1639.0</td>\n",
              "      <td>352.0</td>\n",
              "      <td>1222.0</td>\n",
              "      <td>395.0</td>\n",
              "      <td>1.7656</td>\n",
              "      <td>0.0</td>\n",
              "      <td>1.0</td>\n",
              "      <td>0.0</td>\n",
              "    </tr>\n",
              "    <tr>\n",
              "      <th>4</th>\n",
              "      <td>-121.76</td>\n",
              "      <td>38.68</td>\n",
              "      <td>38.0</td>\n",
              "      <td>674.0</td>\n",
              "      <td>178.0</td>\n",
              "      <td>701.0</td>\n",
              "      <td>189.0</td>\n",
              "      <td>1.3942</td>\n",
              "      <td>0.0</td>\n",
              "      <td>1.0</td>\n",
              "      <td>0.0</td>\n",
              "    </tr>\n",
              "  </tbody>\n",
              "</table>\n",
              "</div>"
            ],
            "text/plain": [
              "   longitude  latitude  housing_median_age  total_rooms  total_bedrooms  \\\n",
              "0    -117.15     32.70                52.0        458.0           148.0   \n",
              "1    -122.32     38.32                22.0       2483.0           528.0   \n",
              "2    -122.49     37.74                44.0       1472.0           275.0   \n",
              "3    -118.85     35.23                26.0       1639.0           352.0   \n",
              "4    -121.76     38.68                38.0        674.0           178.0   \n",
              "\n",
              "   population  households  median_income  ocean_proximity_<1H OCEAN  \\\n",
              "0      1283.0       166.0         1.2863                        0.0   \n",
              "1      1478.0       492.0         4.0878                        0.0   \n",
              "2       820.0       310.0         5.6826                        0.0   \n",
              "3      1222.0       395.0         1.7656                        0.0   \n",
              "4       701.0       189.0         1.3942                        0.0   \n",
              "\n",
              "   ocean_proximity_INLAND  ocean_proximity_NEAR OCEAN  \n",
              "0                     0.0                         1.0  \n",
              "1                     0.0                         1.0  \n",
              "2                     0.0                         1.0  \n",
              "3                     1.0                         0.0  \n",
              "4                     1.0                         0.0  "
            ]
          },
          "execution_count": 17,
          "metadata": {},
          "output_type": "execute_result"
        }
      ],
      "source": [
        "ohe = OneHotEncoder()\n",
        "\n",
        "# Train data\n",
        "train_ohe = ohe.fit_transform(train_data[kolom_objek]).toarray()\n",
        "train_ohe = pd.DataFrame(train_ohe, columns=ohe.get_feature_names_out())\n",
        "train_data = pd.concat([train_data.reset_index(drop=True), train_ohe], axis=1)\n",
        "train_data = train_data.drop(kolom_objek, axis=1)\n",
        "train_data.head()"
      ]
    },
    {
      "cell_type": "code",
      "execution_count": 18,
      "metadata": {
        "colab": {
          "background_save": true,
          "base_uri": "https://localhost:8080/",
          "height": 244
        },
        "id": "bumEVXylQfa3",
        "outputId": "5dd3a48b-a708-4799-b842-5976cab19e7b"
      },
      "outputs": [
        {
          "data": {
            "text/html": [
              "<div>\n",
              "<style scoped>\n",
              "    .dataframe tbody tr th:only-of-type {\n",
              "        vertical-align: middle;\n",
              "    }\n",
              "\n",
              "    .dataframe tbody tr th {\n",
              "        vertical-align: top;\n",
              "    }\n",
              "\n",
              "    .dataframe thead th {\n",
              "        text-align: right;\n",
              "    }\n",
              "</style>\n",
              "<table border=\"1\" class=\"dataframe\">\n",
              "  <thead>\n",
              "    <tr style=\"text-align: right;\">\n",
              "      <th></th>\n",
              "      <th>longitude</th>\n",
              "      <th>latitude</th>\n",
              "      <th>housing_median_age</th>\n",
              "      <th>total_rooms</th>\n",
              "      <th>total_bedrooms</th>\n",
              "      <th>population</th>\n",
              "      <th>households</th>\n",
              "      <th>median_income</th>\n",
              "      <th>ocean_proximity_&lt;1H OCEAN</th>\n",
              "      <th>ocean_proximity_INLAND</th>\n",
              "      <th>ocean_proximity_NEAR OCEAN</th>\n",
              "    </tr>\n",
              "  </thead>\n",
              "  <tbody>\n",
              "    <tr>\n",
              "      <th>0</th>\n",
              "      <td>-122.27</td>\n",
              "      <td>37.82</td>\n",
              "      <td>40.0</td>\n",
              "      <td>946.0</td>\n",
              "      <td>375.000000</td>\n",
              "      <td>700.0</td>\n",
              "      <td>352.0</td>\n",
              "      <td>1.7750</td>\n",
              "      <td>0.0</td>\n",
              "      <td>0.0</td>\n",
              "      <td>1.0</td>\n",
              "    </tr>\n",
              "    <tr>\n",
              "      <th>1</th>\n",
              "      <td>-115.49</td>\n",
              "      <td>32.69</td>\n",
              "      <td>17.0</td>\n",
              "      <td>1960.0</td>\n",
              "      <td>389.000000</td>\n",
              "      <td>1691.0</td>\n",
              "      <td>356.0</td>\n",
              "      <td>1.8990</td>\n",
              "      <td>0.0</td>\n",
              "      <td>1.0</td>\n",
              "      <td>0.0</td>\n",
              "    </tr>\n",
              "    <tr>\n",
              "      <th>2</th>\n",
              "      <td>-117.09</td>\n",
              "      <td>32.77</td>\n",
              "      <td>31.0</td>\n",
              "      <td>3062.0</td>\n",
              "      <td>537.870553</td>\n",
              "      <td>1263.0</td>\n",
              "      <td>539.0</td>\n",
              "      <td>3.0875</td>\n",
              "      <td>0.0</td>\n",
              "      <td>0.0</td>\n",
              "      <td>1.0</td>\n",
              "    </tr>\n",
              "    <tr>\n",
              "      <th>3</th>\n",
              "      <td>-121.66</td>\n",
              "      <td>39.15</td>\n",
              "      <td>22.0</td>\n",
              "      <td>2144.0</td>\n",
              "      <td>376.000000</td>\n",
              "      <td>1200.0</td>\n",
              "      <td>370.0</td>\n",
              "      <td>3.4426</td>\n",
              "      <td>0.0</td>\n",
              "      <td>1.0</td>\n",
              "      <td>0.0</td>\n",
              "    </tr>\n",
              "    <tr>\n",
              "      <th>4</th>\n",
              "      <td>-116.72</td>\n",
              "      <td>33.56</td>\n",
              "      <td>13.0</td>\n",
              "      <td>3166.0</td>\n",
              "      <td>682.000000</td>\n",
              "      <td>1250.0</td>\n",
              "      <td>475.0</td>\n",
              "      <td>2.3550</td>\n",
              "      <td>0.0</td>\n",
              "      <td>1.0</td>\n",
              "      <td>0.0</td>\n",
              "    </tr>\n",
              "  </tbody>\n",
              "</table>\n",
              "</div>"
            ],
            "text/plain": [
              "   longitude  latitude  housing_median_age  total_rooms  total_bedrooms  \\\n",
              "0    -122.27     37.82                40.0        946.0      375.000000   \n",
              "1    -115.49     32.69                17.0       1960.0      389.000000   \n",
              "2    -117.09     32.77                31.0       3062.0      537.870553   \n",
              "3    -121.66     39.15                22.0       2144.0      376.000000   \n",
              "4    -116.72     33.56                13.0       3166.0      682.000000   \n",
              "\n",
              "   population  households  median_income  ocean_proximity_<1H OCEAN  \\\n",
              "0       700.0       352.0         1.7750                        0.0   \n",
              "1      1691.0       356.0         1.8990                        0.0   \n",
              "2      1263.0       539.0         3.0875                        0.0   \n",
              "3      1200.0       370.0         3.4426                        0.0   \n",
              "4      1250.0       475.0         2.3550                        0.0   \n",
              "\n",
              "   ocean_proximity_INLAND  ocean_proximity_NEAR OCEAN  \n",
              "0                     0.0                         1.0  \n",
              "1                     1.0                         0.0  \n",
              "2                     0.0                         1.0  \n",
              "3                     1.0                         0.0  \n",
              "4                     1.0                         0.0  "
            ]
          },
          "execution_count": 18,
          "metadata": {},
          "output_type": "execute_result"
        }
      ],
      "source": [
        "# Test data\n",
        "test_ohe = ohe.transform(test_data[kolom_objek]).toarray()\n",
        "test_ohe = pd.DataFrame(test_ohe, columns=ohe.get_feature_names_out())\n",
        "test_data = pd.concat([test_data.reset_index(drop=True), test_ohe], axis=1)\n",
        "test_data = test_data.drop(kolom_objek, axis=1)\n",
        "test_data.head()"
      ]
    },
    {
      "cell_type": "code",
      "execution_count": 19,
      "metadata": {
        "colab": {
          "background_save": true,
          "base_uri": "https://localhost:8080/"
        },
        "id": "bGMgBsg9Q_US",
        "outputId": "d2843377-8a98-4b8a-ae5f-d07422937c45"
      },
      "outputs": [
        {
          "name": "stdout",
          "output_type": "stream",
          "text": [
            "<class 'pandas.core.frame.DataFrame'>\n",
            "RangeIndex: 3660 entries, 0 to 3659\n",
            "Data columns (total 11 columns):\n",
            " #   Column                      Non-Null Count  Dtype  \n",
            "---  ------                      --------------  -----  \n",
            " 0   longitude                   3660 non-null   float64\n",
            " 1   latitude                    3660 non-null   float64\n",
            " 2   housing_median_age          3660 non-null   float64\n",
            " 3   total_rooms                 3660 non-null   float64\n",
            " 4   total_bedrooms              3660 non-null   float64\n",
            " 5   population                  3660 non-null   float64\n",
            " 6   households                  3660 non-null   float64\n",
            " 7   median_income               3660 non-null   float64\n",
            " 8   ocean_proximity_<1H OCEAN   3660 non-null   float64\n",
            " 9   ocean_proximity_INLAND      3660 non-null   float64\n",
            " 10  ocean_proximity_NEAR OCEAN  3660 non-null   float64\n",
            "dtypes: float64(11)\n",
            "memory usage: 314.7 KB\n"
          ]
        }
      ],
      "source": [
        "test_data.info()"
      ]
    },
    {
      "cell_type": "markdown",
      "metadata": {
        "id": "D8LXjS4NNJYo"
      },
      "source": [
        "#### Scaling"
      ]
    },
    {
      "cell_type": "code",
      "execution_count": 20,
      "metadata": {
        "colab": {
          "background_save": true
        },
        "id": "3hr2QSbiVDxy"
      },
      "outputs": [],
      "source": [
        "kolom_objek = train_data.select_dtypes(include=object).columns.tolist()\n",
        "kolom_numerik = train_data.select_dtypes(include=np.number).columns.tolist()"
      ]
    },
    {
      "cell_type": "code",
      "execution_count": 21,
      "metadata": {
        "colab": {
          "background_save": true,
          "base_uri": "https://localhost:8080/",
          "height": 338
        },
        "id": "eV6Wf7eFNHE3",
        "outputId": "b485c022-622a-4a43-a3fa-8083d7e302e5"
      },
      "outputs": [
        {
          "data": {
            "text/html": [
              "<div>\n",
              "<style scoped>\n",
              "    .dataframe tbody tr th:only-of-type {\n",
              "        vertical-align: middle;\n",
              "    }\n",
              "\n",
              "    .dataframe tbody tr th {\n",
              "        vertical-align: top;\n",
              "    }\n",
              "\n",
              "    .dataframe thead th {\n",
              "        text-align: right;\n",
              "    }\n",
              "</style>\n",
              "<table border=\"1\" class=\"dataframe\">\n",
              "  <thead>\n",
              "    <tr style=\"text-align: right;\">\n",
              "      <th></th>\n",
              "      <th>longitude</th>\n",
              "      <th>latitude</th>\n",
              "      <th>housing_median_age</th>\n",
              "      <th>total_rooms</th>\n",
              "      <th>total_bedrooms</th>\n",
              "      <th>population</th>\n",
              "      <th>households</th>\n",
              "      <th>median_income</th>\n",
              "      <th>ocean_proximity_&lt;1H OCEAN</th>\n",
              "      <th>ocean_proximity_INLAND</th>\n",
              "      <th>ocean_proximity_NEAR OCEAN</th>\n",
              "    </tr>\n",
              "  </thead>\n",
              "  <tbody>\n",
              "    <tr>\n",
              "      <th>count</th>\n",
              "      <td>1.463700e+04</td>\n",
              "      <td>1.463700e+04</td>\n",
              "      <td>1.463700e+04</td>\n",
              "      <td>1.463700e+04</td>\n",
              "      <td>1.463700e+04</td>\n",
              "      <td>1.463700e+04</td>\n",
              "      <td>1.463700e+04</td>\n",
              "      <td>1.463700e+04</td>\n",
              "      <td>1.463700e+04</td>\n",
              "      <td>1.463700e+04</td>\n",
              "      <td>1.463700e+04</td>\n",
              "    </tr>\n",
              "    <tr>\n",
              "      <th>mean</th>\n",
              "      <td>1.868955e-17</td>\n",
              "      <td>1.157296e-15</td>\n",
              "      <td>2.767024e-17</td>\n",
              "      <td>-3.082562e-17</td>\n",
              "      <td>1.212394e-16</td>\n",
              "      <td>5.048606e-17</td>\n",
              "      <td>-1.504873e-17</td>\n",
              "      <td>1.089819e-16</td>\n",
              "      <td>-6.893289e-17</td>\n",
              "      <td>-4.368986e-18</td>\n",
              "      <td>-1.262151e-17</td>\n",
              "    </tr>\n",
              "    <tr>\n",
              "      <th>std</th>\n",
              "      <td>1.000034e+00</td>\n",
              "      <td>1.000034e+00</td>\n",
              "      <td>1.000034e+00</td>\n",
              "      <td>1.000034e+00</td>\n",
              "      <td>1.000034e+00</td>\n",
              "      <td>1.000034e+00</td>\n",
              "      <td>1.000034e+00</td>\n",
              "      <td>1.000034e+00</td>\n",
              "      <td>1.000034e+00</td>\n",
              "      <td>1.000034e+00</td>\n",
              "      <td>1.000034e+00</td>\n",
              "    </tr>\n",
              "    <tr>\n",
              "      <th>min</th>\n",
              "      <td>-2.383381e+00</td>\n",
              "      <td>-1.451474e+00</td>\n",
              "      <td>-2.304067e+00</td>\n",
              "      <td>-1.841196e+00</td>\n",
              "      <td>-1.959138e+00</td>\n",
              "      <td>-1.787923e+00</td>\n",
              "      <td>-1.942388e+00</td>\n",
              "      <td>-2.026999e+00</td>\n",
              "      <td>-8.819554e-01</td>\n",
              "      <td>-7.047168e-01</td>\n",
              "      <td>-5.475361e-01</td>\n",
              "    </tr>\n",
              "    <tr>\n",
              "      <th>25%</th>\n",
              "      <td>-1.088569e+00</td>\n",
              "      <td>-8.066982e-01</td>\n",
              "      <td>-8.341788e-01</td>\n",
              "      <td>-6.892531e-01</td>\n",
              "      <td>-7.213671e-01</td>\n",
              "      <td>-6.866200e-01</td>\n",
              "      <td>-7.043841e-01</td>\n",
              "      <td>-7.332409e-01</td>\n",
              "      <td>-8.819554e-01</td>\n",
              "      <td>-7.047168e-01</td>\n",
              "      <td>-5.475361e-01</td>\n",
              "    </tr>\n",
              "    <tr>\n",
              "      <th>50%</th>\n",
              "      <td>5.161974e-01</td>\n",
              "      <td>-6.443445e-01</td>\n",
              "      <td>6.408649e-02</td>\n",
              "      <td>-1.761752e-01</td>\n",
              "      <td>-1.688675e-01</td>\n",
              "      <td>-1.737232e-01</td>\n",
              "      <td>-1.692764e-01</td>\n",
              "      <td>-1.445892e-01</td>\n",
              "      <td>-8.819554e-01</td>\n",
              "      <td>-7.047168e-01</td>\n",
              "      <td>-5.475361e-01</td>\n",
              "    </tr>\n",
              "    <tr>\n",
              "      <th>75%</th>\n",
              "      <td>7.861582e-01</td>\n",
              "      <td>9.559984e-01</td>\n",
              "      <td>6.357099e-01</td>\n",
              "      <td>5.239278e-01</td>\n",
              "      <td>5.677987e-01</td>\n",
              "      <td>5.072897e-01</td>\n",
              "      <td>5.744327e-01</td>\n",
              "      <td>5.811396e-01</td>\n",
              "      <td>1.133844e+00</td>\n",
              "      <td>1.419010e+00</td>\n",
              "      <td>-5.475361e-01</td>\n",
              "    </tr>\n",
              "    <tr>\n",
              "      <th>max</th>\n",
              "      <td>2.545902e+00</td>\n",
              "      <td>2.913519e+00</td>\n",
              "      <td>1.860617e+00</td>\n",
              "      <td>4.410907e+00</td>\n",
              "      <td>3.056189e+00</td>\n",
              "      <td>1.064982e+01</td>\n",
              "      <td>5.018548e+00</td>\n",
              "      <td>7.317831e+00</td>\n",
              "      <td>1.133844e+00</td>\n",
              "      <td>1.419010e+00</td>\n",
              "      <td>1.826364e+00</td>\n",
              "    </tr>\n",
              "  </tbody>\n",
              "</table>\n",
              "</div>"
            ],
            "text/plain": [
              "          longitude      latitude  housing_median_age   total_rooms  \\\n",
              "count  1.463700e+04  1.463700e+04        1.463700e+04  1.463700e+04   \n",
              "mean   1.868955e-17  1.157296e-15        2.767024e-17 -3.082562e-17   \n",
              "std    1.000034e+00  1.000034e+00        1.000034e+00  1.000034e+00   \n",
              "min   -2.383381e+00 -1.451474e+00       -2.304067e+00 -1.841196e+00   \n",
              "25%   -1.088569e+00 -8.066982e-01       -8.341788e-01 -6.892531e-01   \n",
              "50%    5.161974e-01 -6.443445e-01        6.408649e-02 -1.761752e-01   \n",
              "75%    7.861582e-01  9.559984e-01        6.357099e-01  5.239278e-01   \n",
              "max    2.545902e+00  2.913519e+00        1.860617e+00  4.410907e+00   \n",
              "\n",
              "       total_bedrooms    population    households  median_income  \\\n",
              "count    1.463700e+04  1.463700e+04  1.463700e+04   1.463700e+04   \n",
              "mean     1.212394e-16  5.048606e-17 -1.504873e-17   1.089819e-16   \n",
              "std      1.000034e+00  1.000034e+00  1.000034e+00   1.000034e+00   \n",
              "min     -1.959138e+00 -1.787923e+00 -1.942388e+00  -2.026999e+00   \n",
              "25%     -7.213671e-01 -6.866200e-01 -7.043841e-01  -7.332409e-01   \n",
              "50%     -1.688675e-01 -1.737232e-01 -1.692764e-01  -1.445892e-01   \n",
              "75%      5.677987e-01  5.072897e-01  5.744327e-01   5.811396e-01   \n",
              "max      3.056189e+00  1.064982e+01  5.018548e+00   7.317831e+00   \n",
              "\n",
              "       ocean_proximity_<1H OCEAN  ocean_proximity_INLAND  \\\n",
              "count               1.463700e+04            1.463700e+04   \n",
              "mean               -6.893289e-17           -4.368986e-18   \n",
              "std                 1.000034e+00            1.000034e+00   \n",
              "min                -8.819554e-01           -7.047168e-01   \n",
              "25%                -8.819554e-01           -7.047168e-01   \n",
              "50%                -8.819554e-01           -7.047168e-01   \n",
              "75%                 1.133844e+00            1.419010e+00   \n",
              "max                 1.133844e+00            1.419010e+00   \n",
              "\n",
              "       ocean_proximity_NEAR OCEAN  \n",
              "count                1.463700e+04  \n",
              "mean                -1.262151e-17  \n",
              "std                  1.000034e+00  \n",
              "min                 -5.475361e-01  \n",
              "25%                 -5.475361e-01  \n",
              "50%                 -5.475361e-01  \n",
              "75%                 -5.475361e-01  \n",
              "max                  1.826364e+00  "
            ]
          },
          "execution_count": 21,
          "metadata": {},
          "output_type": "execute_result"
        }
      ],
      "source": [
        "# Standard Scaling\n",
        "ss = StandardScaler()\n",
        "\n",
        "train_ss = train_data.copy()\n",
        "train_ss[kolom_numerik] = ss.fit_transform(train_data[kolom_numerik])\n",
        "#train_ss.head()\n",
        "\n",
        "test_ss = test_data.copy()\n",
        "test_ss[kolom_numerik] = ss.transform(test_data[kolom_numerik])\n",
        "train_ss.describe()"
      ]
    },
    {
      "cell_type": "code",
      "execution_count": 22,
      "metadata": {
        "colab": {
          "background_save": true,
          "base_uri": "https://localhost:8080/",
          "height": 338
        },
        "id": "LtgoIHocpt9Z",
        "outputId": "e9e7aa31-ce22-4a27-d509-1d3e0bdddae4"
      },
      "outputs": [
        {
          "data": {
            "text/html": [
              "<div>\n",
              "<style scoped>\n",
              "    .dataframe tbody tr th:only-of-type {\n",
              "        vertical-align: middle;\n",
              "    }\n",
              "\n",
              "    .dataframe tbody tr th {\n",
              "        vertical-align: top;\n",
              "    }\n",
              "\n",
              "    .dataframe thead th {\n",
              "        text-align: right;\n",
              "    }\n",
              "</style>\n",
              "<table border=\"1\" class=\"dataframe\">\n",
              "  <thead>\n",
              "    <tr style=\"text-align: right;\">\n",
              "      <th></th>\n",
              "      <th>longitude</th>\n",
              "      <th>latitude</th>\n",
              "      <th>housing_median_age</th>\n",
              "      <th>total_rooms</th>\n",
              "      <th>total_bedrooms</th>\n",
              "      <th>population</th>\n",
              "      <th>households</th>\n",
              "      <th>median_income</th>\n",
              "      <th>ocean_proximity_&lt;1H OCEAN</th>\n",
              "      <th>ocean_proximity_INLAND</th>\n",
              "      <th>ocean_proximity_NEAR OCEAN</th>\n",
              "    </tr>\n",
              "  </thead>\n",
              "  <tbody>\n",
              "    <tr>\n",
              "      <th>count</th>\n",
              "      <td>3660.000000</td>\n",
              "      <td>3660.000000</td>\n",
              "      <td>3660.000000</td>\n",
              "      <td>3660.000000</td>\n",
              "      <td>3660.000000</td>\n",
              "      <td>3660.000000</td>\n",
              "      <td>3660.000000</td>\n",
              "      <td>3660.000000</td>\n",
              "      <td>3660.000000</td>\n",
              "      <td>3660.000000</td>\n",
              "      <td>3660.000000</td>\n",
              "    </tr>\n",
              "    <tr>\n",
              "      <th>mean</th>\n",
              "      <td>0.478454</td>\n",
              "      <td>0.339057</td>\n",
              "      <td>0.545178</td>\n",
              "      <td>0.295413</td>\n",
              "      <td>0.391923</td>\n",
              "      <td>0.143555</td>\n",
              "      <td>0.280113</td>\n",
              "      <td>0.217304</td>\n",
              "      <td>0.433880</td>\n",
              "      <td>0.328962</td>\n",
              "      <td>0.237158</td>\n",
              "    </tr>\n",
              "    <tr>\n",
              "      <th>std</th>\n",
              "      <td>0.203914</td>\n",
              "      <td>0.231300</td>\n",
              "      <td>0.243892</td>\n",
              "      <td>0.162731</td>\n",
              "      <td>0.204042</td>\n",
              "      <td>0.081204</td>\n",
              "      <td>0.147293</td>\n",
              "      <td>0.107966</td>\n",
              "      <td>0.495677</td>\n",
              "      <td>0.469900</td>\n",
              "      <td>0.425398</td>\n",
              "    </tr>\n",
              "    <tr>\n",
              "      <th>min</th>\n",
              "      <td>0.009128</td>\n",
              "      <td>0.002125</td>\n",
              "      <td>0.000000</td>\n",
              "      <td>-0.000529</td>\n",
              "      <td>0.000000</td>\n",
              "      <td>0.000229</td>\n",
              "      <td>0.000000</td>\n",
              "      <td>0.000000</td>\n",
              "      <td>0.000000</td>\n",
              "      <td>0.000000</td>\n",
              "      <td>0.000000</td>\n",
              "    </tr>\n",
              "    <tr>\n",
              "      <th>25%</th>\n",
              "      <td>0.257606</td>\n",
              "      <td>0.148778</td>\n",
              "      <td>0.333333</td>\n",
              "      <td>0.181866</td>\n",
              "      <td>0.242528</td>\n",
              "      <td>0.088431</td>\n",
              "      <td>0.174593</td>\n",
              "      <td>0.137460</td>\n",
              "      <td>0.000000</td>\n",
              "      <td>0.000000</td>\n",
              "      <td>0.000000</td>\n",
              "    </tr>\n",
              "    <tr>\n",
              "      <th>50%</th>\n",
              "      <td>0.580629</td>\n",
              "      <td>0.195537</td>\n",
              "      <td>0.549020</td>\n",
              "      <td>0.266446</td>\n",
              "      <td>0.358668</td>\n",
              "      <td>0.128637</td>\n",
              "      <td>0.256026</td>\n",
              "      <td>0.201918</td>\n",
              "      <td>0.000000</td>\n",
              "      <td>0.000000</td>\n",
              "      <td>0.000000</td>\n",
              "    </tr>\n",
              "    <tr>\n",
              "      <th>75%</th>\n",
              "      <td>0.640974</td>\n",
              "      <td>0.554729</td>\n",
              "      <td>0.705882</td>\n",
              "      <td>0.381635</td>\n",
              "      <td>0.507472</td>\n",
              "      <td>0.183734</td>\n",
              "      <td>0.364169</td>\n",
              "      <td>0.281031</td>\n",
              "      <td>1.000000</td>\n",
              "      <td>1.000000</td>\n",
              "      <td>0.000000</td>\n",
              "    </tr>\n",
              "    <tr>\n",
              "      <th>max</th>\n",
              "      <td>0.992901</td>\n",
              "      <td>0.990436</td>\n",
              "      <td>1.000000</td>\n",
              "      <td>0.997750</td>\n",
              "      <td>0.999146</td>\n",
              "      <td>0.655212</td>\n",
              "      <td>0.935505</td>\n",
              "      <td>1.000000</td>\n",
              "      <td>1.000000</td>\n",
              "      <td>1.000000</td>\n",
              "      <td>1.000000</td>\n",
              "    </tr>\n",
              "  </tbody>\n",
              "</table>\n",
              "</div>"
            ],
            "text/plain": [
              "         longitude     latitude  housing_median_age  total_rooms  \\\n",
              "count  3660.000000  3660.000000         3660.000000  3660.000000   \n",
              "mean      0.478454     0.339057            0.545178     0.295413   \n",
              "std       0.203914     0.231300            0.243892     0.162731   \n",
              "min       0.009128     0.002125            0.000000    -0.000529   \n",
              "25%       0.257606     0.148778            0.333333     0.181866   \n",
              "50%       0.580629     0.195537            0.549020     0.266446   \n",
              "75%       0.640974     0.554729            0.705882     0.381635   \n",
              "max       0.992901     0.990436            1.000000     0.997750   \n",
              "\n",
              "       total_bedrooms   population   households  median_income  \\\n",
              "count     3660.000000  3660.000000  3660.000000    3660.000000   \n",
              "mean         0.391923     0.143555     0.280113       0.217304   \n",
              "std          0.204042     0.081204     0.147293       0.107966   \n",
              "min          0.000000     0.000229     0.000000       0.000000   \n",
              "25%          0.242528     0.088431     0.174593       0.137460   \n",
              "50%          0.358668     0.128637     0.256026       0.201918   \n",
              "75%          0.507472     0.183734     0.364169       0.281031   \n",
              "max          0.999146     0.655212     0.935505       1.000000   \n",
              "\n",
              "       ocean_proximity_<1H OCEAN  ocean_proximity_INLAND  \\\n",
              "count                3660.000000             3660.000000   \n",
              "mean                    0.433880                0.328962   \n",
              "std                     0.495677                0.469900   \n",
              "min                     0.000000                0.000000   \n",
              "25%                     0.000000                0.000000   \n",
              "50%                     0.000000                0.000000   \n",
              "75%                     1.000000                1.000000   \n",
              "max                     1.000000                1.000000   \n",
              "\n",
              "       ocean_proximity_NEAR OCEAN  \n",
              "count                 3660.000000  \n",
              "mean                     0.237158  \n",
              "std                      0.425398  \n",
              "min                      0.000000  \n",
              "25%                      0.000000  \n",
              "50%                      0.000000  \n",
              "75%                      0.000000  \n",
              "max                      1.000000  "
            ]
          },
          "execution_count": 22,
          "metadata": {},
          "output_type": "execute_result"
        }
      ],
      "source": [
        "# Min Max Scaling\n",
        "mm = MinMaxScaler()\n",
        "\n",
        "train_mm = train_data.copy()\n",
        "train_mm[kolom_numerik] = mm.fit_transform(train_data[kolom_numerik])\n",
        "#train_mm.head()\n",
        "\n",
        "test_mm = test_data.copy()\n",
        "test_mm[kolom_numerik] = mm.transform(test_data[kolom_numerik])\n",
        "test_mm.describe()"
      ]
    },
    {
      "cell_type": "markdown",
      "metadata": {
        "id": "h5MMroPBr19L"
      },
      "source": [
        "### **Training**"
      ]
    },
    {
      "cell_type": "code",
      "execution_count": 23,
      "metadata": {
        "colab": {
          "background_save": true,
          "base_uri": "https://localhost:8080/",
          "height": 75
        },
        "id": "ird1mQ-Zr7ah",
        "outputId": "a2c24d1f-55a8-4974-d295-39c43fcf2587"
      },
      "outputs": [
        {
          "data": {
            "text/html": [
              "<style>#sk-container-id-1 {color: black;}#sk-container-id-1 pre{padding: 0;}#sk-container-id-1 div.sk-toggleable {background-color: white;}#sk-container-id-1 label.sk-toggleable__label {cursor: pointer;display: block;width: 100%;margin-bottom: 0;padding: 0.3em;box-sizing: border-box;text-align: center;}#sk-container-id-1 label.sk-toggleable__label-arrow:before {content: \"▸\";float: left;margin-right: 0.25em;color: #696969;}#sk-container-id-1 label.sk-toggleable__label-arrow:hover:before {color: black;}#sk-container-id-1 div.sk-estimator:hover label.sk-toggleable__label-arrow:before {color: black;}#sk-container-id-1 div.sk-toggleable__content {max-height: 0;max-width: 0;overflow: hidden;text-align: left;background-color: #f0f8ff;}#sk-container-id-1 div.sk-toggleable__content pre {margin: 0.2em;color: black;border-radius: 0.25em;background-color: #f0f8ff;}#sk-container-id-1 input.sk-toggleable__control:checked~div.sk-toggleable__content {max-height: 200px;max-width: 100%;overflow: auto;}#sk-container-id-1 input.sk-toggleable__control:checked~label.sk-toggleable__label-arrow:before {content: \"▾\";}#sk-container-id-1 div.sk-estimator input.sk-toggleable__control:checked~label.sk-toggleable__label {background-color: #d4ebff;}#sk-container-id-1 div.sk-label input.sk-toggleable__control:checked~label.sk-toggleable__label {background-color: #d4ebff;}#sk-container-id-1 input.sk-hidden--visually {border: 0;clip: rect(1px 1px 1px 1px);clip: rect(1px, 1px, 1px, 1px);height: 1px;margin: -1px;overflow: hidden;padding: 0;position: absolute;width: 1px;}#sk-container-id-1 div.sk-estimator {font-family: monospace;background-color: #f0f8ff;border: 1px dotted black;border-radius: 0.25em;box-sizing: border-box;margin-bottom: 0.5em;}#sk-container-id-1 div.sk-estimator:hover {background-color: #d4ebff;}#sk-container-id-1 div.sk-parallel-item::after {content: \"\";width: 100%;border-bottom: 1px solid gray;flex-grow: 1;}#sk-container-id-1 div.sk-label:hover label.sk-toggleable__label {background-color: #d4ebff;}#sk-container-id-1 div.sk-serial::before {content: \"\";position: absolute;border-left: 1px solid gray;box-sizing: border-box;top: 0;bottom: 0;left: 50%;z-index: 0;}#sk-container-id-1 div.sk-serial {display: flex;flex-direction: column;align-items: center;background-color: white;padding-right: 0.2em;padding-left: 0.2em;position: relative;}#sk-container-id-1 div.sk-item {position: relative;z-index: 1;}#sk-container-id-1 div.sk-parallel {display: flex;align-items: stretch;justify-content: center;background-color: white;position: relative;}#sk-container-id-1 div.sk-item::before, #sk-container-id-1 div.sk-parallel-item::before {content: \"\";position: absolute;border-left: 1px solid gray;box-sizing: border-box;top: 0;bottom: 0;left: 50%;z-index: -1;}#sk-container-id-1 div.sk-parallel-item {display: flex;flex-direction: column;z-index: 1;position: relative;background-color: white;}#sk-container-id-1 div.sk-parallel-item:first-child::after {align-self: flex-end;width: 50%;}#sk-container-id-1 div.sk-parallel-item:last-child::after {align-self: flex-start;width: 50%;}#sk-container-id-1 div.sk-parallel-item:only-child::after {width: 0;}#sk-container-id-1 div.sk-dashed-wrapped {border: 1px dashed gray;margin: 0 0.4em 0.5em 0.4em;box-sizing: border-box;padding-bottom: 0.4em;background-color: white;}#sk-container-id-1 div.sk-label label {font-family: monospace;font-weight: bold;display: inline-block;line-height: 1.2em;}#sk-container-id-1 div.sk-label-container {text-align: center;}#sk-container-id-1 div.sk-container {/* jupyter's `normalize.less` sets `[hidden] { display: none; }` but bootstrap.min.css set `[hidden] { display: none !important; }` so we also need the `!important` here to be able to override the default hidden behavior on the sphinx rendered scikit-learn.org. See: https://github.com/scikit-learn/scikit-learn/issues/21755 */display: inline-block !important;position: relative;}#sk-container-id-1 div.sk-text-repr-fallback {display: none;}</style><div id=\"sk-container-id-1\" class=\"sk-top-container\"><div class=\"sk-text-repr-fallback\"><pre>LinearRegression()</pre><b>In a Jupyter environment, please rerun this cell to show the HTML representation or trust the notebook. <br />On GitHub, the HTML representation is unable to render, please try loading this page with nbviewer.org.</b></div><div class=\"sk-container\" hidden><div class=\"sk-item\"><div class=\"sk-estimator sk-toggleable\"><input class=\"sk-toggleable__control sk-hidden--visually\" id=\"sk-estimator-id-1\" type=\"checkbox\" checked><label for=\"sk-estimator-id-1\" class=\"sk-toggleable__label sk-toggleable__label-arrow\">LinearRegression</label><div class=\"sk-toggleable__content\"><pre>LinearRegression()</pre></div></div></div></div></div>"
            ],
            "text/plain": [
              "LinearRegression()"
            ]
          },
          "execution_count": 23,
          "metadata": {},
          "output_type": "execute_result"
        }
      ],
      "source": [
        "from sklearn.linear_model import *\n",
        "\n",
        "model = LinearRegression()\n",
        "model.fit(train_mm, train_label_regresi)"
      ]
    },
    {
      "cell_type": "code",
      "execution_count": 24,
      "metadata": {
        "colab": {
          "background_save": true,
          "base_uri": "https://localhost:8080/"
        },
        "id": "7NtilsxPsmNP",
        "outputId": "67b5d8c2-9c6b-43e9-bc8e-9dd5b45c00aa"
      },
      "outputs": [
        {
          "data": {
            "text/plain": [
              "array([173440.,  25984., 193408., 110016., 101952.])"
            ]
          },
          "execution_count": 24,
          "metadata": {},
          "output_type": "execute_result"
        }
      ],
      "source": [
        "prediksi = model.predict(test_mm)\n",
        "prediksi[:5]"
      ]
    },
    {
      "cell_type": "code",
      "execution_count": 25,
      "metadata": {
        "colab": {
          "background_save": true,
          "base_uri": "https://localhost:8080/"
        },
        "id": "Up9s7xEksuvp",
        "outputId": "a417f2a2-d472-4709-bf5b-18bb9b642287"
      },
      "outputs": [
        {
          "data": {
            "text/plain": [
              "49       112500.0\n",
              "2751      64000.0\n",
              "14152    291500.0\n",
              "19710    102400.0\n",
              "12311    122900.0\n",
              "Name: median_house_value, dtype: float64"
            ]
          },
          "execution_count": 25,
          "metadata": {},
          "output_type": "execute_result"
        }
      ],
      "source": [
        "test_label_regresi[:5]"
      ]
    },
    {
      "cell_type": "code",
      "execution_count": 26,
      "metadata": {
        "colab": {
          "background_save": true,
          "base_uri": "https://localhost:8080/"
        },
        "id": "6bEH7q5ms7Lq",
        "outputId": "bb366536-b447-4598-bda8-f47863150462"
      },
      "outputs": [
        {
          "name": "stdout",
          "output_type": "stream",
          "text": [
            "MSE:  3525221342.7718577\n",
            "RMSE:  59373.57444833398\n"
          ]
        }
      ],
      "source": [
        "from sklearn.metrics import mean_squared_error\n",
        "\n",
        "# skor\n",
        "mse = mean_squared_error(test_label_regresi, prediksi)\n",
        "rmse = np.sqrt(mse)\n",
        "\n",
        "print('MSE: ', mse)\n",
        "print(\"RMSE: \", rmse)"
      ]
    }
  ],
  "metadata": {
    "colab": {
      "provenance": []
    },
    "kernelspec": {
      "display_name": "Python 3",
      "name": "python3"
    },
    "language_info": {
      "codemirror_mode": {
        "name": "ipython",
        "version": 3
      },
      "file_extension": ".py",
      "mimetype": "text/x-python",
      "name": "python",
      "nbconvert_exporter": "python",
      "pygments_lexer": "ipython3",
      "version": "3.11.6"
    }
  },
  "nbformat": 4,
  "nbformat_minor": 0
}
