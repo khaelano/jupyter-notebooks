{
  "cells": [
    {
      "cell_type": "code",
      "execution_count": 23,
      "metadata": {
        "id": "YCzJjgDawQ4E"
      },
      "outputs": [],
      "source": [
        "from sympy import *"
      ]
    },
    {
      "cell_type": "code",
      "execution_count": 24,
      "metadata": {
        "colab": {
          "base_uri": "https://localhost:8080/"
        },
        "id": "9dUZ266nw5L7",
        "outputId": "a53668ba-3499-4bbb-f078-a1c345135b12"
      },
      "outputs": [],
      "source": [
        "def turunan(x, fungsi):\n",
        "    # 1/x\n",
        "    h = symbols('h')\n",
        "\n",
        "    fungsi_sebelum = (fungsi(x+h)-fungsi(x))/h\n",
        "    fungsi_setelah = limit(fungsi_sebelum, h, 0)\n",
        "\n",
        "    return fungsi_setelah\n"
      ]
    },
    {
      "cell_type": "code",
      "execution_count": 25,
      "metadata": {},
      "outputs": [
        {
          "name": "stdout",
          "output_type": "stream",
          "text": [
            "Turunan fungsi 1/x adalah              :  -1/x**2\n",
            "Turunan fungsi 1/x pada titik 1 adalah :  -1\n"
          ]
        },
        {
          "data": {
            "text/latex": [
              "$\\displaystyle - \\frac{1}{x^{2}}$"
            ],
            "text/plain": [
              "-1/x**2"
            ]
          },
          "execution_count": 25,
          "metadata": {},
          "output_type": "execute_result"
        }
      ],
      "source": [
        "# Fungsi 1/x\n",
        "fungsi_1 = lambda x : 1/x\n",
        "print('Turunan fungsi 1/x adalah              : ', turunan(symbols('x'), fungsi_1))\n",
        "print('Turunan fungsi 1/x pada titik 1 adalah : ', turunan(1, fungsi_1))\n",
        "turunan(symbols('x'), fungsi_1)"
      ]
    },
    {
      "cell_type": "code",
      "execution_count": 29,
      "metadata": {
        "colab": {
          "base_uri": "https://localhost:8080/",
          "height": 38
        },
        "id": "w8E5AF1VxtyM",
        "outputId": "ff71d173-6d4c-4549-c257-faad9c11be4d"
      },
      "outputs": [
        {
          "name": "stdout",
          "output_type": "stream",
          "text": [
            "Turunan fungsi -x^2 + 2x + 1 adalah              :  2 - 2*x\n",
            "Turunan fungsi -x^2 + 2x + 1 pada titik 1 adalah :  0\n"
          ]
        },
        {
          "data": {
            "text/latex": [
              "$\\displaystyle 2 - 2 x$"
            ],
            "text/plain": [
              "2 - 2*x"
            ]
          },
          "execution_count": 29,
          "metadata": {},
          "output_type": "execute_result"
        }
      ],
      "source": [
        "# Fungsi -x^2 + 2x + 1\n",
        "fungsi_2 = lambda x : -x**2 + 2*x + 1\n",
        "print('Turunan fungsi -x^2 + 2x + 1 adalah              : ', turunan(symbols('x'), fungsi_2))\n",
        "print('Turunan fungsi -x^2 + 2x + 1 pada titik 1 adalah : ', turunan(1, fungsi_2))\n",
        "turunan(symbols('x'), fungsi_1)"
      ]
    }
  ],
  "metadata": {
    "colab": {
      "provenance": []
    },
    "kernelspec": {
      "display_name": "Python 3",
      "name": "python3"
    },
    "language_info": {
      "codemirror_mode": {
        "name": "ipython",
        "version": 3
      },
      "file_extension": ".py",
      "mimetype": "text/x-python",
      "name": "python",
      "nbconvert_exporter": "python",
      "pygments_lexer": "ipython3",
      "version": "3.11.6"
    }
  },
  "nbformat": 4,
  "nbformat_minor": 0
}
